{
 "cells": [
  {
   "cell_type": "code",
   "execution_count": 54,
   "metadata": {},
   "outputs": [
    {
     "name": "stdout",
     "output_type": "stream",
     "text": [
      "b'Hello,TensorFlow!'\n"
     ]
    }
   ],
   "source": [
    "# using tensorflow_gpuenv\n",
    "\n",
    "import tensorflow as tf\n",
    "import numpy as np\n",
    "import pandas as pd\n",
    "import matplotlib.pyplot as plt\n",
    "import random\n",
    "import re\n",
    "import requests, zipfile, io\n",
    "import scipy\n",
    "import time\n",
    "\n",
    "hello=tf.constant('Hello,TensorFlow!')\n",
    "\n",
    "sess=tf.Session()\n",
    "\n",
    "print(sess.run(hello))\n"
   ]
  },
  {
   "cell_type": "markdown",
   "metadata": {},
   "source": [
    "## Getting the vocabulary\n",
    "\n",
    "We determine our vocabulary by looking at the Google \"English 1 Million\" unigram data. Since this comes from the same source as the ngram data we will be studying, this provides consistnecy. Additionally, since this data is drawn from sources spanning the time period we're studing, it can be expected to be more representative of english over this broader time period, while other sources may reflect a more modern english.\n",
    "\n",
    "### Tokenizing\n",
    "\n",
    "In order to simplify the text we're looking at, all text is converted to lowercase and all \"words\" composed entirely of non-alphabetic symbols are replaced with a \"#NUM\" tag. If a non-alphabetic symbol appears partway through a word (e.g. an apostrophe or hyphen), only the first part of the word will be recorded."
   ]
  },
  {
   "cell_type": "code",
   "execution_count": 57,
   "metadata": {},
   "outputs": [],
   "source": [
    "all_words = {}\n",
    "\n",
    "def clean_word(string):\n",
    "    wordlist = re.findall(r\"[a-z]+\", string.lower())\n",
    "    word = \"\"\n",
    "    if len(wordlist) == 0:\n",
    "        word = \"#NUM\"\n",
    "    else:\n",
    "        word = wordlist[0]\n",
    "    return word\n",
    "    \n",
    "\n",
    "def get_word_counts(data, all_words):\n",
    "    for index, row in data.iterrows():\n",
    "        currentword = str(row[\"word\"])\n",
    "        word = clean_word(currentword)\n",
    "        if word in all_words:\n",
    "            all_words[word] += row[\"total\"]\n",
    "        else:\n",
    "            all_words[word] = row[\"total\"]"
   ]
  },
  {
   "cell_type": "code",
   "execution_count": 58,
   "metadata": {},
   "outputs": [
    {
     "name": "stdout",
     "output_type": "stream",
     "text": [
      "  word  year  total  pages  books\n",
      "0    #  1574      1      1      1\n",
      "1    #  1584      6      6      1\n",
      "2    #  1614      1      1      1\n",
      "3    #  1631    115    100      1\n",
      "4    #  1632      3      3      1\n"
     ]
    },
    {
     "ename": "KeyboardInterrupt",
     "evalue": "",
     "output_type": "error",
     "traceback": [
      "\u001b[1;31m---------------------------------------------------------------------------\u001b[0m",
      "\u001b[1;31mKeyboardInterrupt\u001b[0m                         Traceback (most recent call last)",
      "\u001b[1;32m<ipython-input-58-95e7bdb43a9d>\u001b[0m in \u001b[0;36m<module>\u001b[1;34m\u001b[0m\n\u001b[0;32m      9\u001b[0m                        encoding = \"ISO-8859-1\")\n\u001b[0;32m     10\u001b[0m     \u001b[0mprint\u001b[0m\u001b[1;33m(\u001b[0m\u001b[0mdata\u001b[0m\u001b[1;33m.\u001b[0m\u001b[0mhead\u001b[0m\u001b[1;33m(\u001b[0m\u001b[1;33m)\u001b[0m\u001b[1;33m)\u001b[0m\u001b[1;33m\u001b[0m\u001b[1;33m\u001b[0m\u001b[0m\n\u001b[1;32m---> 11\u001b[1;33m     \u001b[0mget_word_counts\u001b[0m\u001b[1;33m(\u001b[0m\u001b[0mdata\u001b[0m\u001b[1;33m,\u001b[0m \u001b[0mall_words\u001b[0m\u001b[1;33m)\u001b[0m\u001b[1;33m\u001b[0m\u001b[1;33m\u001b[0m\u001b[0m\n\u001b[0m",
      "\u001b[1;32m<ipython-input-57-96c7ad249894>\u001b[0m in \u001b[0;36mget_word_counts\u001b[1;34m(data, all_words)\u001b[0m\n\u001b[0;32m     16\u001b[0m         \u001b[0mword\u001b[0m \u001b[1;33m=\u001b[0m \u001b[0mclean_word\u001b[0m\u001b[1;33m(\u001b[0m\u001b[0mcurrentword\u001b[0m\u001b[1;33m)\u001b[0m\u001b[1;33m\u001b[0m\u001b[1;33m\u001b[0m\u001b[0m\n\u001b[0;32m     17\u001b[0m         \u001b[1;32mif\u001b[0m \u001b[0mword\u001b[0m \u001b[1;32min\u001b[0m \u001b[0mall_words\u001b[0m\u001b[1;33m:\u001b[0m\u001b[1;33m\u001b[0m\u001b[1;33m\u001b[0m\u001b[0m\n\u001b[1;32m---> 18\u001b[1;33m             \u001b[0mall_words\u001b[0m\u001b[1;33m[\u001b[0m\u001b[0mword\u001b[0m\u001b[1;33m]\u001b[0m \u001b[1;33m+=\u001b[0m \u001b[0mrow\u001b[0m\u001b[1;33m[\u001b[0m\u001b[1;34m\"total\"\u001b[0m\u001b[1;33m]\u001b[0m\u001b[1;33m\u001b[0m\u001b[1;33m\u001b[0m\u001b[0m\n\u001b[0m\u001b[0;32m     19\u001b[0m         \u001b[1;32melse\u001b[0m\u001b[1;33m:\u001b[0m\u001b[1;33m\u001b[0m\u001b[1;33m\u001b[0m\u001b[0m\n\u001b[0;32m     20\u001b[0m             \u001b[0mall_words\u001b[0m\u001b[1;33m[\u001b[0m\u001b[0mword\u001b[0m\u001b[1;33m]\u001b[0m \u001b[1;33m=\u001b[0m \u001b[0mrow\u001b[0m\u001b[1;33m[\u001b[0m\u001b[1;34m\"total\"\u001b[0m\u001b[1;33m]\u001b[0m\u001b[1;33m\u001b[0m\u001b[1;33m\u001b[0m\u001b[0m\n",
      "\u001b[1;32mc:\\users\\madge\\anaconda3\\envs\\tensorflow_gpuenv\\lib\\site-packages\\pandas\\core\\series.py\u001b[0m in \u001b[0;36m__getitem__\u001b[1;34m(self, key)\u001b[0m\n\u001b[0;32m    868\u001b[0m             \u001b[0mresult\u001b[0m \u001b[1;33m=\u001b[0m \u001b[0mself\u001b[0m\u001b[1;33m.\u001b[0m\u001b[0mindex\u001b[0m\u001b[1;33m.\u001b[0m\u001b[0mget_value\u001b[0m\u001b[1;33m(\u001b[0m\u001b[0mself\u001b[0m\u001b[1;33m,\u001b[0m \u001b[0mkey\u001b[0m\u001b[1;33m)\u001b[0m\u001b[1;33m\u001b[0m\u001b[1;33m\u001b[0m\u001b[0m\n\u001b[0;32m    869\u001b[0m \u001b[1;33m\u001b[0m\u001b[0m\n\u001b[1;32m--> 870\u001b[1;33m             \u001b[1;32mif\u001b[0m \u001b[1;32mnot\u001b[0m \u001b[0mis_scalar\u001b[0m\u001b[1;33m(\u001b[0m\u001b[0mresult\u001b[0m\u001b[1;33m)\u001b[0m\u001b[1;33m:\u001b[0m\u001b[1;33m\u001b[0m\u001b[1;33m\u001b[0m\u001b[0m\n\u001b[0m\u001b[0;32m    871\u001b[0m                 \u001b[1;32mif\u001b[0m \u001b[0mis_list_like\u001b[0m\u001b[1;33m(\u001b[0m\u001b[0mresult\u001b[0m\u001b[1;33m)\u001b[0m \u001b[1;32mand\u001b[0m \u001b[1;32mnot\u001b[0m \u001b[0misinstance\u001b[0m\u001b[1;33m(\u001b[0m\u001b[0mresult\u001b[0m\u001b[1;33m,\u001b[0m \u001b[0mSeries\u001b[0m\u001b[1;33m)\u001b[0m\u001b[1;33m:\u001b[0m\u001b[1;33m\u001b[0m\u001b[1;33m\u001b[0m\u001b[0m\n\u001b[0;32m    872\u001b[0m \u001b[1;33m\u001b[0m\u001b[0m\n",
      "\u001b[1;31mKeyboardInterrupt\u001b[0m: "
     ]
    }
   ],
   "source": [
    "for i in range(10):\n",
    "    filename = \"googlebooks-eng-1M-1gram-20090715-\" + str(i) + \".csv\"\n",
    "    data = pd.read_csv(filename, \n",
    "                       sep = '\\t', \n",
    "                       header = None, \n",
    "                       names = [\"word\",\"year\",\"total\",\"pages\",\"books\"],\n",
    "                       quotechar=None, \n",
    "                       quoting=3,\n",
    "                       encoding = \"ISO-8859-1\")\n",
    "    print(data.head())\n",
    "    get_word_counts(data, all_words)"
   ]
  },
  {
   "cell_type": "code",
   "execution_count": null,
   "metadata": {},
   "outputs": [],
   "source": [
    "keys = random.sample(list(all_words), 1000)\n",
    "print(keys)"
   ]
  },
  {
   "cell_type": "code",
   "execution_count": null,
   "metadata": {},
   "outputs": [],
   "source": [
    "len(all_words)"
   ]
  },
  {
   "cell_type": "code",
   "execution_count": null,
   "metadata": {},
   "outputs": [],
   "source": [
    "counts = []\n",
    "for word in keys:\n",
    "    count = all_words[word]\n",
    "    counts.append(count)\n",
    "    if(count>1e7):\n",
    "        print(word)\n",
    "        print(count)\n",
    "plt.hist(counts)"
   ]
  },
  {
   "cell_type": "code",
   "execution_count": null,
   "metadata": {},
   "outputs": [],
   "source": [
    "top_words = {}\n",
    "word_to_index = {}\n",
    "index_to_word = {}\n",
    "cutoff = 1e5\n",
    "top_word_count = 0\n",
    "extra_word_count = 0\n",
    "i = 0\n",
    "for word, count in all_words.items():\n",
    "    if(count>cutoff):\n",
    "        top_words[word] = count\n",
    "        top_word_count += count\n",
    "        word_to_index[word] = i\n",
    "        index_to_word[i] = word\n",
    "        i += 1\n",
    "    else:\n",
    "        extra_word_count += count\n",
    "        \n",
    "print(str(len(top_words)) + \" words\")\n",
    "print(\"appearing \" + str(top_word_count) + \" times\")\n",
    "print(\"others appear \" + str(extra_word_count) + \" times\")"
   ]
  },
  {
   "cell_type": "code",
   "execution_count": null,
   "metadata": {},
   "outputs": [],
   "source": [
    "print(top_word_count/(extra_word_count + top_word_count))"
   ]
  },
  {
   "cell_type": "code",
   "execution_count": null,
   "metadata": {},
   "outputs": [],
   "source": [
    "pd.DataFrame.from_dict(top_words, orient='index').to_csv(\"vocabCounts.csv\")\n",
    "pd.DataFrame.from_dict(index_to_word, orient='index').to_csv(\"vocabIndexed.csv\")"
   ]
  },
  {
   "cell_type": "code",
   "execution_count": 59,
   "metadata": {},
   "outputs": [],
   "source": [
    "# before: \n",
    "def load_vocab(top_word_dict, word_to_index_dict, index_to_word_dict):\n",
    "    top_word_df = pd.read_csv(\"vocabCounts.csv\", names=[\"word\",\"count\"], header=0)\n",
    "    total_count = 0\n",
    "    for index, row in top_word_df.iterrows():\n",
    "        top_word_dict[row[\"word\"]] = row[\"count\"]\n",
    "        total_count += row[\"count\"]\n",
    "        word_to_index_dict[row[\"word\"]] = index\n",
    "        index_to_word_dict[index]=row[\"word\"]\n",
    "    return total_count\n",
    "    \n",
    "    \n",
    "def subsample_prob(top_word_dict, index_to_word_dict, total_word_count):\n",
    "    threshold = 1e-5\n",
    "    probs = np.ones(len(index_to_word_dict))\n",
    "    for index in range(len(index_to_word_dict)):\n",
    "        word = index_to_word_dict[index]\n",
    "        freq = top_word_dict[word] * 1.0/total_word_count\n",
    "        probs[index] = 1 - np.sqrt(threshold/freq)\n",
    "    return probs\n",
    "    \n",
    "    "
   ]
  },
  {
   "cell_type": "code",
   "execution_count": 60,
   "metadata": {},
   "outputs": [
    {
     "name": "stdout",
     "output_type": "stream",
     "text": [
      "103341534423\n"
     ]
    }
   ],
   "source": [
    "top_words = {}\n",
    "word_to_index = {}\n",
    "index_to_word = {}\n",
    "\n",
    "total_count = load_vocab(top_words, word_to_index, index_to_word)\n",
    "print(total_count)\n",
    "probs = subsample_prob(top_words, index_to_word, total_count)"
   ]
  },
  {
   "cell_type": "code",
   "execution_count": 61,
   "metadata": {},
   "outputs": [],
   "source": [
    "maxyear = 2008\n",
    "minyear = 1800\n",
    "\n",
    "decades = range(minyear - minyear%10, maxyear, 10)"
   ]
  },
  {
   "cell_type": "markdown",
   "metadata": {},
   "source": [
    "According to Mikolov, the best results from skipgram came from training with a loss function of negative sampling with k=15. This means using \"tf.nn.sampled_softmax_loss\" with num_sampled = 15, num_classes = vocab size, and num_true=1.\n",
    "source: https://www.tensorflow.org/api_docs/python/tf/nn/sampled_softmax_loss"
   ]
  },
  {
   "cell_type": "markdown",
   "metadata": {},
   "source": [
    "From hw4:\n",
    "\n",
    "embed_shape = [self.V, self.H]\n",
    "\n",
    "self.W_in_ = tf.get_variable(\"W_in\", embed_shape, initializer=tf.initializers.random_uniform(minval=-1.0,maxval=1.0))\n",
    "\n",
    "x_in_ = tf.nn.embedding_lookup(self.W_in_, self.input_w_)"
   ]
  },
  {
   "cell_type": "code",
   "execution_count": 68,
   "metadata": {},
   "outputs": [],
   "source": [
    "vocab_size = len(top_words) + 1\n",
    "embed_dim = 300\n",
    "neg_samples = 15\n",
    "learning_rate_ = .001"
   ]
  },
  {
   "cell_type": "code",
   "execution_count": 69,
   "metadata": {},
   "outputs": [
    {
     "name": "stdout",
     "output_type": "stream",
     "text": [
      "Data from 1800 to 2008\n"
     ]
    }
   ],
   "source": [
    "W_e_ = {}\n",
    "W_nce_ = {}\n",
    "b_nce_ = {}\n",
    "\n",
    "print(\"Data from \" + str(minyear) + \" to \" + str(maxyear))\n",
    "for decade in decades:\n",
    "    # initialize embeddings\n",
    "    with tf.variable_scope(tf.get_variable_scope(), reuse=tf.AUTO_REUSE): \n",
    "        W_e_[decade] = tf.get_variable(\"W_e_\" + str(decade), \n",
    "                       [vocab_size, embed_dim], \n",
    "                       initializer = tf.initializers.random_uniform(minval=-1.0,\n",
    "                                                                    maxval=1.0, \n",
    "                                                                    seed = 47))\n",
    "        W_nce_[decade] = tf.get_variable(\"W_nce_\" + str(decade), \n",
    "                       [vocab_size, embed_dim], \n",
    "                       initializer = tf.initializers.random_uniform(minval=-1.0,\n",
    "                                                                    maxval=1.0, \n",
    "                                                                    seed = 47))\n",
    "        b_nce_[decade] = tf.get_variable(\"b_nce_\" + str(decade), \n",
    "                       [vocab_size])"
   ]
  },
  {
   "cell_type": "markdown",
   "metadata": {},
   "source": [
    "follow the directions in https://www.tensorflow.org/tutorials/representation/word2vec to get skipgram model running"
   ]
  },
  {
   "cell_type": "code",
   "execution_count": 70,
   "metadata": {},
   "outputs": [],
   "source": [
    "v_center_ = {}\n",
    "v_context_0_= {}\n",
    "v_context_1_ = {}\n",
    "v_context_3_ = {}\n",
    "v_context_4_ = {}\n",
    "train_loss_ = {}\n",
    "train_step_ = {}\n",
    "\n",
    "batch_size = 32\n",
    "\n",
    "center_word_ids_ = tf.placeholder(tf.int32, [batch_size])\n",
    "context_word_id_0_ = tf.placeholder(tf.int32, [batch_size,1])\n",
    "context_word_id_1_ = tf.placeholder(tf.int32, [batch_size,1])\n",
    "context_word_id_3_ = tf.placeholder(tf.int32, [batch_size,1])\n",
    "context_word_id_4_ = tf.placeholder(tf.int32, [batch_size,1])\n",
    "\n",
    "for decade in decades:\n",
    "\n",
    "    v_center_[decade] = tf.nn.embedding_lookup(W_e_[decade], center_word_ids_)\n",
    "    \n",
    "    \n",
    "    train_loss_[decade] = tf.add(tf.add(tf.reduce_mean(tf.nn.sampled_softmax_loss(\n",
    "        weights = W_2e_[decade],\n",
    "        biases = tf.zeros([embed_dim]),\n",
    "        labels = context_word_id_0_,\n",
    "        inputs = v_center_[decade],\n",
    "        num_sampled = neg_samples,\n",
    "        num_classes = vocab_size,\n",
    "        num_true=1)),\n",
    "                                        tf.reduce_mean(tf.nn.sampled_softmax_loss(\n",
    "        weights = W_2e_[decade],\n",
    "        biases = tf.zeros([embed_dim]),\n",
    "        labels = context_word_id_1_,\n",
    "        inputs = v_center_[decade],\n",
    "        num_sampled = neg_samples,\n",
    "        num_classes = vocab_size,\n",
    "        num_true=1))),\n",
    "                                 tf.add(tf.reduce_mean(tf.nn.sampled_softmax_loss(\n",
    "        weights = W_2e_[decade],\n",
    "        biases = tf.zeros([embed_dim]),\n",
    "        labels = context_word_id_3_,\n",
    "        inputs = v_center_[decade],\n",
    "        num_sampled = neg_samples,\n",
    "        num_classes = vocab_size,\n",
    "        num_true=1)),\n",
    "                                        tf.reduce_mean(tf.nn.sampled_softmax_loss(\n",
    "        weights = W_2e_[decade],\n",
    "        biases = tf.zeros([embed_dim]),\n",
    "        labels = context_word_id_4_,\n",
    "        inputs = v_center_[decade],\n",
    "        num_sampled = neg_samples,\n",
    "        num_classes = vocab_size,\n",
    "        num_true=1))))\n",
    "                                        \n",
    "    \n",
    "    train_step_[decade] = tf.train.AdamOptimizer(learning_rate=learning_rate_).minimize(train_loss_[decade])\n",
    "init=tf.global_variables_initializer()"
   ]
  },
  {
   "cell_type": "code",
   "execution_count": 71,
   "metadata": {},
   "outputs": [],
   "source": [
    "def ngram_to_decade_dict(fileurl, wordindices, decades):\n",
    "    #response = requests.get(fileurl)\n",
    "    #zip_file = zipfile.ZipFile(io.BytesIO(response.content))\n",
    "    #zip_file.extractall(\"temp\")\n",
    "    \n",
    "    decade_dicts = {}\n",
    "    for decade in decades:\n",
    "        # initialize dictionary\n",
    "        decade_dicts[decade] = {}\n",
    "        \n",
    "    data = 0\n",
    "    start = time.time()\n",
    "    while True:\n",
    "        try:\n",
    "            data = pd.read_csv(fileurl, \n",
    "                       sep = '\\t', \n",
    "                       header = None, \n",
    "                       names = [\"words\",\"year\",\"total\",\"pages\",\"books\"],\n",
    "                       quotechar=None, \n",
    "                       quoting=3,\n",
    "                       encoding = \"ISO-8859-1\")\n",
    "        except:\n",
    "            print(\"trying downloading \"+ fileurl + \" again... \")\n",
    "        else:\n",
    "            break\n",
    "    end = time.time()\n",
    "    print(str(end-start) + \" elapsed while downloading and reading to csv\")\n",
    "            \n",
    "    start = time.time()\n",
    "    \n",
    "    for index, row in data.iterrows():\n",
    "        year = row[\"year\"]\n",
    "        decade = year - year % 10\n",
    "        \n",
    "        if(decade in decade_dicts):\n",
    "            # get and split words, convert them to indices \n",
    "            wordlist = str(row[\"words\"]).lower().split(\" \")\n",
    "            indexlist = [vocab_size - 1,vocab_size -1,vocab_size -1,vocab_size -1,vocab_size -1]\n",
    "            for i in range(len(wordlist)):\n",
    "                currentword = wordlist[i]\n",
    "                cleanword = clean_word(currentword)\n",
    "                if(cleanword in wordindices):\n",
    "                    indexlist[i] = wordindices[cleanword]\n",
    "            indextuple = tuple(indexlist)\n",
    "\n",
    "            year = row[\"year\"]\n",
    "            decade = year - year % 10\n",
    "\n",
    "            count = row[\"total\"]\n",
    "\n",
    "            if(indextuple in decade_dicts[decade]):\n",
    "                decade_dicts[decade][indextuple] += count\n",
    "            else:\n",
    "                decade_dicts[decade][indextuple] = count\n",
    "    end = time.time()\n",
    "    print(str(end-start) + \" elapsed while converting to dict\")\n",
    "    return decade_dicts"
   ]
  },
  {
   "cell_type": "code",
   "execution_count": 72,
   "metadata": {},
   "outputs": [],
   "source": [
    "sess.run(init)"
   ]
  },
  {
   "cell_type": "markdown",
   "metadata": {},
   "source": [
    "run skipgram for each decade"
   ]
  },
  {
   "cell_type": "code",
   "execution_count": 73,
   "metadata": {},
   "outputs": [
    {
     "name": "stdout",
     "output_type": "stream",
     "text": [
      "downloaded http://storage.googleapis.com/books/ngrams/books/googlebooks-eng-1M-5gram-20090715-0.csv.zip\n",
      "13.802543640136719 elapsed while downloading and reading to csv\n"
     ]
    },
    {
     "ename": "KeyboardInterrupt",
     "evalue": "",
     "output_type": "error",
     "traceback": [
      "\u001b[1;31m---------------------------------------------------------------------------\u001b[0m",
      "\u001b[1;31mKeyboardInterrupt\u001b[0m                         Traceback (most recent call last)",
      "\u001b[1;32m<ipython-input-73-840a045ae847>\u001b[0m in \u001b[0;36m<module>\u001b[1;34m\u001b[0m\n\u001b[0;32m      5\u001b[0m     \u001b[0murl\u001b[0m \u001b[1;33m=\u001b[0m \u001b[1;34m\"http://storage.googleapis.com/books/ngrams/books/googlebooks-eng-1M-5gram-20090715-\"\u001b[0m \u001b[1;33m+\u001b[0m \u001b[0mstr\u001b[0m\u001b[1;33m(\u001b[0m\u001b[0mfilenum\u001b[0m\u001b[1;33m)\u001b[0m \u001b[1;33m+\u001b[0m\u001b[1;34m\".csv.zip\"\u001b[0m\u001b[1;33m\u001b[0m\u001b[1;33m\u001b[0m\u001b[0m\n\u001b[0;32m      6\u001b[0m     \u001b[0mprint\u001b[0m\u001b[1;33m(\u001b[0m\u001b[1;34m\"downloaded \"\u001b[0m \u001b[1;33m+\u001b[0m \u001b[0murl\u001b[0m\u001b[1;33m)\u001b[0m\u001b[1;33m\u001b[0m\u001b[1;33m\u001b[0m\u001b[0m\n\u001b[1;32m----> 7\u001b[1;33m     \u001b[0mdecade_dicts\u001b[0m \u001b[1;33m=\u001b[0m \u001b[0mngram_to_decade_dict\u001b[0m\u001b[1;33m(\u001b[0m\u001b[0murl\u001b[0m\u001b[1;33m,\u001b[0m \u001b[0mword_to_index\u001b[0m\u001b[1;33m,\u001b[0m \u001b[0mdecades\u001b[0m\u001b[1;33m)\u001b[0m\u001b[1;33m\u001b[0m\u001b[1;33m\u001b[0m\u001b[0m\n\u001b[0m\u001b[0;32m      8\u001b[0m     \u001b[1;32mfor\u001b[0m \u001b[0mdecade\u001b[0m \u001b[1;32min\u001b[0m \u001b[0mdecades\u001b[0m\u001b[1;33m:\u001b[0m\u001b[1;33m\u001b[0m\u001b[1;33m\u001b[0m\u001b[0m\n\u001b[0;32m      9\u001b[0m         \u001b[0mnum_ngrams\u001b[0m \u001b[1;33m=\u001b[0m \u001b[0mlen\u001b[0m\u001b[1;33m(\u001b[0m\u001b[0mdecade_dicts\u001b[0m\u001b[1;33m[\u001b[0m\u001b[0mdecade\u001b[0m\u001b[1;33m]\u001b[0m\u001b[1;33m)\u001b[0m\u001b[1;33m\u001b[0m\u001b[1;33m\u001b[0m\u001b[0m\n",
      "\u001b[1;32m<ipython-input-71-b5e8c782d9f5>\u001b[0m in \u001b[0;36mngram_to_decade_dict\u001b[1;34m(fileurl, wordindices, decades)\u001b[0m\n\u001b[0;32m     39\u001b[0m             \u001b[1;32mfor\u001b[0m \u001b[0mi\u001b[0m \u001b[1;32min\u001b[0m \u001b[0mrange\u001b[0m\u001b[1;33m(\u001b[0m\u001b[0mlen\u001b[0m\u001b[1;33m(\u001b[0m\u001b[0mwordlist\u001b[0m\u001b[1;33m)\u001b[0m\u001b[1;33m)\u001b[0m\u001b[1;33m:\u001b[0m\u001b[1;33m\u001b[0m\u001b[1;33m\u001b[0m\u001b[0m\n\u001b[0;32m     40\u001b[0m                 \u001b[0mcurrentword\u001b[0m \u001b[1;33m=\u001b[0m \u001b[0mwordlist\u001b[0m\u001b[1;33m[\u001b[0m\u001b[0mi\u001b[0m\u001b[1;33m]\u001b[0m\u001b[1;33m\u001b[0m\u001b[1;33m\u001b[0m\u001b[0m\n\u001b[1;32m---> 41\u001b[1;33m                 \u001b[0mcleanword\u001b[0m \u001b[1;33m=\u001b[0m \u001b[0mclean_word\u001b[0m\u001b[1;33m(\u001b[0m\u001b[0mcurrentword\u001b[0m\u001b[1;33m)\u001b[0m\u001b[1;33m\u001b[0m\u001b[1;33m\u001b[0m\u001b[0m\n\u001b[0m\u001b[0;32m     42\u001b[0m                 \u001b[1;32mif\u001b[0m\u001b[1;33m(\u001b[0m\u001b[0mcleanword\u001b[0m \u001b[1;32min\u001b[0m \u001b[0mwordindices\u001b[0m\u001b[1;33m)\u001b[0m\u001b[1;33m:\u001b[0m\u001b[1;33m\u001b[0m\u001b[1;33m\u001b[0m\u001b[0m\n\u001b[0;32m     43\u001b[0m                     \u001b[0mindexlist\u001b[0m\u001b[1;33m[\u001b[0m\u001b[0mi\u001b[0m\u001b[1;33m]\u001b[0m \u001b[1;33m=\u001b[0m \u001b[0mwordindices\u001b[0m\u001b[1;33m[\u001b[0m\u001b[0mcleanword\u001b[0m\u001b[1;33m]\u001b[0m\u001b[1;33m\u001b[0m\u001b[1;33m\u001b[0m\u001b[0m\n",
      "\u001b[1;32m<ipython-input-57-96c7ad249894>\u001b[0m in \u001b[0;36mclean_word\u001b[1;34m(string)\u001b[0m\n\u001b[0;32m      2\u001b[0m \u001b[1;33m\u001b[0m\u001b[0m\n\u001b[0;32m      3\u001b[0m \u001b[1;32mdef\u001b[0m \u001b[0mclean_word\u001b[0m\u001b[1;33m(\u001b[0m\u001b[0mstring\u001b[0m\u001b[1;33m)\u001b[0m\u001b[1;33m:\u001b[0m\u001b[1;33m\u001b[0m\u001b[1;33m\u001b[0m\u001b[0m\n\u001b[1;32m----> 4\u001b[1;33m     \u001b[0mwordlist\u001b[0m \u001b[1;33m=\u001b[0m \u001b[0mre\u001b[0m\u001b[1;33m.\u001b[0m\u001b[0mfindall\u001b[0m\u001b[1;33m(\u001b[0m\u001b[1;34mr\"[a-z]+\"\u001b[0m\u001b[1;33m,\u001b[0m \u001b[0mstring\u001b[0m\u001b[1;33m.\u001b[0m\u001b[0mlower\u001b[0m\u001b[1;33m(\u001b[0m\u001b[1;33m)\u001b[0m\u001b[1;33m)\u001b[0m\u001b[1;33m\u001b[0m\u001b[1;33m\u001b[0m\u001b[0m\n\u001b[0m\u001b[0;32m      5\u001b[0m     \u001b[0mword\u001b[0m \u001b[1;33m=\u001b[0m \u001b[1;34m\"\"\u001b[0m\u001b[1;33m\u001b[0m\u001b[1;33m\u001b[0m\u001b[0m\n\u001b[0;32m      6\u001b[0m     \u001b[1;32mif\u001b[0m \u001b[0mlen\u001b[0m\u001b[1;33m(\u001b[0m\u001b[0mwordlist\u001b[0m\u001b[1;33m)\u001b[0m \u001b[1;33m==\u001b[0m \u001b[1;36m0\u001b[0m\u001b[1;33m:\u001b[0m\u001b[1;33m\u001b[0m\u001b[1;33m\u001b[0m\u001b[0m\n",
      "\u001b[1;32mc:\\users\\madge\\anaconda3\\envs\\tensorflow_gpuenv\\lib\\re.py\u001b[0m in \u001b[0;36mfindall\u001b[1;34m(pattern, string, flags)\u001b[0m\n\u001b[0;32m    220\u001b[0m \u001b[1;33m\u001b[0m\u001b[0m\n\u001b[0;32m    221\u001b[0m     Empty matches are included in the result.\"\"\"\n\u001b[1;32m--> 222\u001b[1;33m     \u001b[1;32mreturn\u001b[0m \u001b[0m_compile\u001b[0m\u001b[1;33m(\u001b[0m\u001b[0mpattern\u001b[0m\u001b[1;33m,\u001b[0m \u001b[0mflags\u001b[0m\u001b[1;33m)\u001b[0m\u001b[1;33m.\u001b[0m\u001b[0mfindall\u001b[0m\u001b[1;33m(\u001b[0m\u001b[0mstring\u001b[0m\u001b[1;33m)\u001b[0m\u001b[1;33m\u001b[0m\u001b[1;33m\u001b[0m\u001b[0m\n\u001b[0m\u001b[0;32m    223\u001b[0m \u001b[1;33m\u001b[0m\u001b[0m\n\u001b[0;32m    224\u001b[0m \u001b[1;32mdef\u001b[0m \u001b[0mfinditer\u001b[0m\u001b[1;33m(\u001b[0m\u001b[0mpattern\u001b[0m\u001b[1;33m,\u001b[0m \u001b[0mstring\u001b[0m\u001b[1;33m,\u001b[0m \u001b[0mflags\u001b[0m\u001b[1;33m=\u001b[0m\u001b[1;36m0\u001b[0m\u001b[1;33m)\u001b[0m\u001b[1;33m:\u001b[0m\u001b[1;33m\u001b[0m\u001b[1;33m\u001b[0m\u001b[0m\n",
      "\u001b[1;32mc:\\users\\madge\\anaconda3\\envs\\tensorflow_gpuenv\\lib\\re.py\u001b[0m in \u001b[0;36m_compile\u001b[1;34m(pattern, flags)\u001b[0m\n\u001b[0;32m    287\u001b[0m     \u001b[1;31m# internal: compile pattern\u001b[0m\u001b[1;33m\u001b[0m\u001b[1;33m\u001b[0m\u001b[1;33m\u001b[0m\u001b[0m\n\u001b[0;32m    288\u001b[0m     \u001b[1;32mtry\u001b[0m\u001b[1;33m:\u001b[0m\u001b[1;33m\u001b[0m\u001b[1;33m\u001b[0m\u001b[0m\n\u001b[1;32m--> 289\u001b[1;33m         \u001b[0mp\u001b[0m\u001b[1;33m,\u001b[0m \u001b[0mloc\u001b[0m \u001b[1;33m=\u001b[0m \u001b[0m_cache\u001b[0m\u001b[1;33m[\u001b[0m\u001b[0mtype\u001b[0m\u001b[1;33m(\u001b[0m\u001b[0mpattern\u001b[0m\u001b[1;33m)\u001b[0m\u001b[1;33m,\u001b[0m \u001b[0mpattern\u001b[0m\u001b[1;33m,\u001b[0m \u001b[0mflags\u001b[0m\u001b[1;33m]\u001b[0m\u001b[1;33m\u001b[0m\u001b[1;33m\u001b[0m\u001b[0m\n\u001b[0m\u001b[0;32m    290\u001b[0m         \u001b[1;32mif\u001b[0m \u001b[0mloc\u001b[0m \u001b[1;32mis\u001b[0m \u001b[1;32mNone\u001b[0m \u001b[1;32mor\u001b[0m \u001b[0mloc\u001b[0m \u001b[1;33m==\u001b[0m \u001b[0m_locale\u001b[0m\u001b[1;33m.\u001b[0m\u001b[0msetlocale\u001b[0m\u001b[1;33m(\u001b[0m\u001b[0m_locale\u001b[0m\u001b[1;33m.\u001b[0m\u001b[0mLC_CTYPE\u001b[0m\u001b[1;33m)\u001b[0m\u001b[1;33m:\u001b[0m\u001b[1;33m\u001b[0m\u001b[1;33m\u001b[0m\u001b[0m\n\u001b[0;32m    291\u001b[0m             \u001b[1;32mreturn\u001b[0m \u001b[0mp\u001b[0m\u001b[1;33m\u001b[0m\u001b[1;33m\u001b[0m\u001b[0m\n",
      "\u001b[1;31mKeyboardInterrupt\u001b[0m: "
     ]
    }
   ],
   "source": [
    "max_iter = 10000\n",
    "\n",
    "\n",
    "for filenum in range(0,800,100):\n",
    "    url = \"http://storage.googleapis.com/books/ngrams/books/googlebooks-eng-1M-5gram-20090715-\" + str(filenum) +\".csv.zip\"\n",
    "    print(\"downloaded \" + url)\n",
    "    decade_dicts = ngram_to_decade_dict(url, word_to_index, decades)\n",
    "    for decade in decades:\n",
    "        num_ngrams = len(decade_dicts[decade])\n",
    "        if(num_ngrams >= batch_size):\n",
    "            print(\"Training decade \" + str(decade))\n",
    "            max_decade_iter = min(max_iter, int(num_ngrams/(batch_size)))\n",
    "            for iteration in range(max_decade_iter):\n",
    "                traindata = random.choices(list(decade_dicts[decade].keys()), \n",
    "                                           weights = list(decade_dicts[decade].values()), \n",
    "                                           k=batch_size)\n",
    "\n",
    "                feed_dict = {\n",
    "                    context_word_id_0_ :  np.array([x[2] for x in traindata]).reshape((batch_size,1)),\n",
    "                    context_word_id_1_ :  np.array([x[1] for x in traindata]).reshape((batch_size,1)),\n",
    "                    center_word_ids_ : [x[0] for x in traindata],\n",
    "                    context_word_id_3_ :  np.array([x[3] for x in traindata]).reshape((batch_size,1)),\n",
    "                    context_word_id_4_ :  np.array([x[4] for x in traindata]).reshape((batch_size,1))\n",
    "                }\n",
    "\n",
    "                ops = [train_loss_[decade], train_step_[decade]]        \n",
    "\n",
    "                cost1, _ = sess.run(ops, feed_dict)\n",
    "                \n",
    "                feed_dict = {\n",
    "                    context_word_id_0_ :  np.array([x[0] for x in traindata]).reshape((batch_size,1)),\n",
    "                    context_word_id_1_ :  np.array([x[1] for x in traindata]).reshape((batch_size,1)),\n",
    "                    center_word_ids_ : [x[2] for x in traindata],\n",
    "                    context_word_id_3_ :  np.array([x[3] for x in traindata]).reshape((batch_size,1)),\n",
    "                    context_word_id_4_ :  np.array([x[4] for x in traindata]).reshape((batch_size,1))\n",
    "                }\n",
    "\n",
    "                ops = [train_loss_[decade], train_step_[decade]]        \n",
    "\n",
    "                cost2, _ = sess.run(ops, feed_dict)\n",
    "                \n",
    "                feed_dict = {\n",
    "                    context_word_id_0_ :  np.array([x[0] for x in traindata]).reshape((batch_size,1)),\n",
    "                    context_word_id_1_ :  np.array([x[1] for x in traindata]).reshape((batch_size,1)),\n",
    "                    center_word_ids_ : [x[4] for x in traindata],\n",
    "                    context_word_id_3_ :  np.array([x[3] for x in traindata]).reshape((batch_size,1)),\n",
    "                    context_word_id_4_ :  np.array([x[2] for x in traindata]).reshape((batch_size,1))\n",
    "                }\n",
    "\n",
    "                ops = [train_loss_[decade], train_step_[decade]]        \n",
    "\n",
    "                cost3, _ = sess.run(ops, feed_dict)\n",
    "                \n",
    "                if(iteration % 1000 == 0):\n",
    "                    print(str(cost1) + \", \"+str(cost2) + \", \" + str(cost3))        \n",
    "    "
   ]
  },
  {
   "cell_type": "code",
   "execution_count": null,
   "metadata": {},
   "outputs": [],
   "source": [
    "# TODO:\n",
    "# save vocab to csv - DONE\n",
    "# check metrics of bias by decade: what metrics?\n",
    "# align different decades while preserving cosine similarity\n",
    "# save embeddiing matrices to files\n",
    "# make pretty graphs\n",
    "# try nn? cnn? rnn? to predict embedding from previous embeddings"
   ]
  },
  {
   "cell_type": "code",
   "execution_count": null,
   "metadata": {},
   "outputs": [],
   "source": []
  },
  {
   "cell_type": "code",
   "execution_count": 20,
   "metadata": {},
   "outputs": [
    {
     "name": "stdout",
     "output_type": "stream",
     "text": [
      "1520 aligns with svd sum 983586.0\n",
      "1530 aligns with svd sum 983586.0\n",
      "1540 aligns with svd sum 983586.0\n",
      "1550 aligns with svd sum 983586.0\n",
      "1560 aligns with svd sum 983586.0\n",
      "1570 aligns with svd sum 983580.25\n",
      "1580 aligns with svd sum 983521.9\n",
      "1590 aligns with svd sum 983580.8\n",
      "1600 aligns with svd sum 983586.0\n",
      "1610 aligns with svd sum 983581.9\n",
      "1620 aligns with svd sum 983586.0\n",
      "1630 aligns with svd sum 983520.4\n",
      "1640 aligns with svd sum 983413.94\n",
      "1650 aligns with svd sum 983537.25\n",
      "1660 aligns with svd sum 983299.4\n",
      "1670 aligns with svd sum 983368.5\n",
      "1680 aligns with svd sum 983226.1\n",
      "1690 aligns with svd sum 983403.25\n",
      "1700 aligns with svd sum 982942.5\n",
      "1710 aligns with svd sum 982381.9\n",
      "1720 aligns with svd sum 981989.5\n",
      "1730 aligns with svd sum 981200.75\n",
      "1740 aligns with svd sum 979933.1\n",
      "1750 aligns with svd sum 977680.56\n",
      "1760 aligns with svd sum 977105.25\n",
      "1770 aligns with svd sum 975168.6\n",
      "1780 aligns with svd sum 971527.75\n",
      "1790 aligns with svd sum 967626.2\n",
      "1800 aligns with svd sum 944539.6\n",
      "1810 aligns with svd sum 936601.75\n",
      "1820 aligns with svd sum 927090.6\n",
      "1830 aligns with svd sum 923869.2\n",
      "1840 aligns with svd sum 920161.25\n",
      "1850 aligns with svd sum 916082.9\n",
      "1860 aligns with svd sum 917269.7\n",
      "1870 aligns with svd sum 917233.5\n",
      "1880 aligns with svd sum 915028.56\n",
      "1890 aligns with svd sum 916393.06\n",
      "1900 aligns with svd sum 918007.5\n",
      "1910 aligns with svd sum 923703.6\n",
      "1920 aligns with svd sum 925856.94\n",
      "1930 aligns with svd sum 927736.0\n",
      "1940 aligns with svd sum 930828.9\n",
      "1950 aligns with svd sum 931546.56\n",
      "1960 aligns with svd sum 933125.3\n",
      "1970 aligns with svd sum 934524.3\n",
      "1980 aligns with svd sum 939400.9\n",
      "1990 aligns with svd sum 942167.6\n",
      "2000 aligns with svd sum 986657.6\n"
     ]
    }
   ],
   "source": [
    "last_decade = decades[-1]\n",
    "most_recent_embed = sess.run(W_e_[last_decade])\n",
    "aligned_embeddings = {}\n",
    "embeddings = {}\n",
    "aligned_matrix = np.zeros([len(decades), embed_dim, vocab_size])\n",
    "\n",
    "\n",
    "# align past decades to current english using orthogonal procrustes\n",
    "for i, decade in enumerate(decades):\n",
    "    decade_embed =  sess.run(W_e_[decade])\n",
    "    embeddings[decade] = decade_embed\n",
    "    conversion = scipy.linalg.orthogonal_procrustes(decade_embed, most_recent_embed)\n",
    "    print(str(decade) + \" aligns with svd sum \"+str(conversion[1]))\n",
    "    aligned = np.dot(decade_embed, conversion[0])\n",
    "    aligned_embeddings[decade] = aligned\n",
    "    aligned_matrix[i] = aligned.T\n",
    "    \n",
    "# save to a file for future reference\n",
    "# np.savetxt(\"saved_embeddings.csv\", aligned_matrix)\n",
    "#d.DataFrame.from_dict(aligned_embeddings, orient='index').to_csv(\"embeddings.csv\")"
   ]
  },
  {
   "cell_type": "code",
   "execution_count": 21,
   "metadata": {},
   "outputs": [],
   "source": [
    "def embedding_lookup(word,embeddingmx):\n",
    "    wordindex = word_to_index[word]\n",
    "    embedding = embeddingmx[wordindex]\n",
    "    return embedding\n",
    "    "
   ]
  },
  {
   "cell_type": "code",
   "execution_count": 44,
   "metadata": {},
   "outputs": [],
   "source": [
    "# visualize on \"he-she\" projection vs time\n",
    "def cos_sim(x,y):\n",
    "    return np.dot(x,y)/np.sqrt(np.dot(x,x)*np.dot(y,y))\n",
    "    \n",
    "    \n",
    "\n",
    "def bias_portion(word, bias_word_1, bias_word_2, decades, embedding_dict):\n",
    "    bias_portions = np.zeros(len(decades))\n",
    "    for i, decade in enumerate(decades):\n",
    "        bias1embed = embedding_lookup(bias_word_1,embedding_dict[decade])\n",
    "        bias2embed = embedding_lookup(bias_word_2,embedding_dict[decade])\n",
    "        biasdiff = bias1embed - bias2embed\n",
    "        wordembed = embedding_lookup(word, embedding_dict[decade])\n",
    "        cos = cos_sim(biasdiff, wordembed)\n",
    "        bias_portions[i] = cos\n",
    "    return bias_portions\n",
    "        \n",
    "def bias_portion_pair(word1, word2, bias_word_1, bias_word_2, decades, embedding_dict):\n",
    "    bias_portions = np.zeros(len(decades))\n",
    "    for i, decade in enumerate(decades):\n",
    "        bias1embed = embedding_lookup(bias_word_1,embedding_dict[decade])\n",
    "        bias2embed = embedding_lookup(bias_word_2,embedding_dict[decade])\n",
    "        biasdiff = bias1embed - bias2embed\n",
    "        word1embed = embedding_lookup(word1, embedding_dict[decade])\n",
    "        word2embed = embedding_lookup(word2, embedding_dict[decade])\n",
    "        worddiff = word1embed - word2embed\n",
    "        cos = cos_sim(word1embed,word2embed+biasdiff)\n",
    "        bias_portions[i] = cos\n",
    "    return bias_portions\n",
    "\n",
    "def cos_sim_time(word1, word2, decades, embedding_dict):\n",
    "    sims = np.zeros(len(decades))\n",
    "    for i, decade in enumerate(decades):\n",
    "        word1embed = embedding_lookup(word1, embedding_dict[decade])\n",
    "        word2embed = embedding_lookup(word2, embedding_dict[decade])\n",
    "        cos = cos_sim(word1embed, word2embed)\n",
    "        sims[i] = cos\n",
    "    return sims\n",
    "        "
   ]
  },
  {
   "cell_type": "markdown",
   "metadata": {},
   "source": [
    "graph results"
   ]
  },
  {
   "cell_type": "code",
   "execution_count": 45,
   "metadata": {},
   "outputs": [
    {
     "data": {
      "text/plain": [
       "[<matplotlib.lines.Line2D at 0x144b73d3518>]"
      ]
     },
     "execution_count": 45,
     "metadata": {},
     "output_type": "execute_result"
    },
    {
     "data": {
      "image/png": "[encoded data removed]",
      "text/plain": [
       "<Figure size 432x288 with 1 Axes>"
      ]
     },
     "metadata": {
      "needs_background": "light"
     },
     "output_type": "display_data"
    }
   ],
   "source": [
    "word1 = \"weak\"\n",
    "word2 = \"h\"\n",
    "bias_word_1 = \"man\"\n",
    "bias_word_2 = \"woman\"\n",
    "\n",
    "\n",
    "plt.plot(decades[25:],bias_portion(word1, bias_word_1, bias_word_2, decades[25:], embeddings))"
   ]
  },
  {
   "cell_type": "code",
   "execution_count": 53,
   "metadata": {},
   "outputs": [
    {
     "data": {
      "text/plain": [
       "[<matplotlib.lines.Line2D at 0x14476ca1278>]"
      ]
     },
     "execution_count": 53,
     "metadata": {},
     "output_type": "execute_result"
    },
    {
     "data": {
      "image/png": "[encoded data removed]",
      "text/plain": [
       "<Figure size 432x288 with 1 Axes>"
      ]
     },
     "metadata": {
      "needs_background": "light"
     },
     "output_type": "display_data"
    }
   ],
   "source": [
    "word1 = \"strong\"\n",
    "word2 = \"weak\"\n",
    "plt.plot(decades[30:],bias_portion_pair(word1, word2, bias_word_1, bias_word_2, decades[30:], embeddings))\n",
    "word1 = \"he\"\n",
    "word2 = \"she\"\n",
    "plt.plot(decades[30:],bias_portion_pair(word1, word2, bias_word_1, bias_word_2, decades[30:], embeddings))\n",
    "word1 = \"the\"\n",
    "word2 = \"an\"\n",
    "plt.plot(decades[30:],bias_portion_pair(word1, word2, bias_word_1, bias_word_2, decades[30:], embeddings))"
   ]
  },
  {
   "cell_type": "code",
   "execution_count": 29,
   "metadata": {},
   "outputs": [
    {
     "name": "stdout",
     "output_type": "stream",
     "text": [
      "man\n",
      "uncle\n",
      "brother\n",
      "boy\n",
      "man\n"
     ]
    }
   ],
   "source": [
    "def complete_analogy(a,b,c, embeddings):\n",
    "    embeda = embedding_lookup(a, embeddings)\n",
    "    embedb = embedding_lookup(b, embeddings)\n",
    "    embedc = embedding_lookup(c, embeddings)\n",
    "    target = embedc-embedb+embeda\n",
    "    maxsim = 0\n",
    "    maxword = \"\"\n",
    "    for word, index in word_to_index.items():\n",
    "        wordembed = embedding_lookup(word, embeddings)\n",
    "        cos = cos_sim(wordembed, target)\n",
    "        if(cos > maxsim):\n",
    "            maxword = word\n",
    "            maxsim = cos\n",
    "    return maxword\n",
    "        \n",
    "print(complete_analogy(\"man\",\"woman\",\"king\", embeddings[1910]))\n",
    "print(complete_analogy(\"he\",\"she\",\"uncle\", embeddings[1910]))\n",
    "print(complete_analogy(\"he\",\"she\",\"brother\", embeddings[1910]))\n",
    "print(complete_analogy(\"he\",\"she\",\"boy\", embeddings[1910]))\n",
    "print(complete_analogy(\"he\",\"she\",\"man\", embeddings[1910]))\n",
    "        \n",
    "        "
   ]
  },
  {
   "cell_type": "code",
   "execution_count": null,
   "metadata": {},
   "outputs": [],
   "source": []
  },
  {
   "cell_type": "code",
   "execution_count": null,
   "metadata": {},
   "outputs": [],
   "source": []
  }
 ],
 "metadata": {
  "kernelspec": {
   "display_name": "Python 3",
   "language": "python",
   "name": "python3"
  },
  "language_info": {
   "codemirror_mode": {
    "name": "ipython",
    "version": 3
   },
   "file_extension": ".py",
   "mimetype": "text/x-python",
   "name": "python",
   "nbconvert_exporter": "python",
   "pygments_lexer": "ipython3",
   "version": "3.6.8"
  }
 },
 "nbformat": 4,
 "nbformat_minor": 2
}
