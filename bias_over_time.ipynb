{
 "cells": [
  {
   "cell_type": "code",
   "execution_count": 1,
   "metadata": {},
   "outputs": [
    {
     "name": "stdout",
     "output_type": "stream",
     "text": [
      "b'Hello,TensorFlow!'\n"
     ]
    }
   ],
   "source": [
    "# using tensorflow_gpuenv\n",
    "\n",
    "import tensorflow as tf\n",
    "import numpy as np\n",
    "import pandas as pd\n",
    "import matplotlib.pyplot as plt\n",
    "import random\n",
    "import re\n",
    "import requests, zipfile, io\n",
    "import scipy\n",
    "import time\n",
    "\n",
    "hello=tf.constant('Hello,TensorFlow!')\n",
    "\n",
    "sess=tf.Session()\n",
    "\n",
    "print(sess.run(hello))\n"
   ]
  },
  {
   "cell_type": "markdown",
   "metadata": {},
   "source": [
    "## Getting the vocabulary\n",
    "\n",
    "We determine our vocabulary by looking at the Google \"English 1 Million\" unigram data. Since this comes from the same source as the ngram data we will be studying, this provides consistnecy. Additionally, since this data is drawn from sources spanning the time period we're studing, it can be expected to be more representative of english over this broader time period, while other sources may reflect a more modern english.\n",
    "\n",
    "### Tokenizing\n",
    "\n",
    "In order to simplify the text we're looking at, all text is converted to lowercase and all \"words\" composed entirely of non-alphabetic symbols are replaced with a \"#NUM\" tag. If a non-alphabetic symbol appears partway through a word (e.g. an apostrophe or hyphen), only the first part of the word will be recorded."
   ]
  },
  {
   "cell_type": "code",
   "execution_count": 2,
   "metadata": {},
   "outputs": [],
   "source": [
    "all_words = {}\n",
    "\n",
    "def clean_word(string):\n",
    "    wordlist = re.findall(r\"[a-z]+\", string.lower())\n",
    "    word = \"\"\n",
    "    if len(wordlist) == 0:\n",
    "        word = \"#NUM\"\n",
    "    else:\n",
    "        word = wordlist[0]\n",
    "    return word\n",
    "    \n",
    "\n",
    "def get_word_counts(data, all_words):\n",
    "    worddata = data.groupby(\"word\")[\"total\"].sum()\n",
    "    for index, value in worddata.iteritems():\n",
    "        currentword = str(index)\n",
    "        word = clean_word(currentword)\n",
    "        if word in all_words:\n",
    "            all_words[word] += value\n",
    "        else:\n",
    "            all_words[word] = value"
   ]
  },
  {
   "cell_type": "code",
   "execution_count": 3,
   "metadata": {},
   "outputs": [
    {
     "name": "stdout",
     "output_type": "stream",
     "text": [
      "  word  year  total  pages  books\n",
      "0    #  1574      1      1      1\n",
      "1    #  1584      6      6      1\n",
      "2    #  1614      1      1      1\n",
      "3    #  1631    115    100      1\n",
      "4    #  1632      3      3      1\n",
      "  word  year  total  pages  books\n",
      "0    $  1520      1      1      1\n",
      "1    $  1575     12     12      2\n",
      "2    $  1576      1      1      1\n",
      "3    $  1581      1      1      1\n",
      "4    $  1584     41     38      1\n",
      "     word  year  total  pages  books\n",
      "0  $0.007  1905      1      1      1\n",
      "1  $0.007  1910      2      2      2\n",
      "2  $0.007  1911      3      3      3\n",
      "3  $0.007  1912      6      6      6\n",
      "4  $0.007  1913      4      4      4\n",
      "    word  year  total  pages  books\n",
      "0  $0.00  1751      1      1      1\n",
      "1  $0.00  1782      1      1      1\n",
      "2  $0.00  1834      1      1      1\n",
      "3  $0.00  1848      2      2      2\n",
      "4  $0.00  1849      1      1      1\n",
      "     word  year  total  pages  books\n",
      "0  $0.002  1906      1      1      1\n",
      "1  $0.002  1908      2      2      2\n",
      "2  $0.002  1909      5      5      5\n",
      "3  $0.002  1910      1      1      1\n",
      "4  $0.002  1911      4      4      3\n",
      "   word  year  total  pages  books\n",
      "0  $0.0  1822      1      1      1\n",
      "1  $0.0  1848      3      3      2\n",
      "2  $0.0  1863      1      1      1\n",
      "3  $0.0  1871      1      1      1\n",
      "4  $0.0  1873      1      1      1\n",
      "      word  year  total  pages  books\n",
      "0  $0.0005  1878      1      1      1\n",
      "1  $0.0005  1896      2      2      2\n",
      "2  $0.0005  1906      1      1      1\n",
      "3  $0.0005  1911      1      1      1\n",
      "4  $0.0005  1912      1      1      1\n",
      "  word  year  total  pages  books\n",
      "0   $0  1631      1      1      1\n",
      "1   $0  1658      1      1      1\n",
      "2   $0  1670      1      1      1\n",
      "3   $0  1674      3      3      1\n",
      "4   $0  1682      2      2      1\n",
      "     word  year  total  pages  books\n",
      "0  \"\"\"ê\u0011\"  1520    529     89      1\n",
      "1  \"\"\"ê\u0011\"  1527     22      6      1\n",
      "2  \"\"\"ê\u0011\"  1541    126     14      1\n",
      "3  \"\"\"ê\u0011\"  1574   1326    244      1\n",
      "4  \"\"\"ê\u0011\"  1575   7932    790      2\n",
      "  word  year  total  pages  books\n",
      "0    !  1520     99     57      1\n",
      "1    !  1527      2      2      1\n",
      "2    !  1574     12     12      1\n",
      "3    !  1575     26     19      2\n",
      "4    !  1576     12      8      1\n"
     ]
    }
   ],
   "source": [
    "for i in range(10):\n",
    "    filename = \"googlebooks-eng-1M-1gram-20090715-\" + str(i) + \".csv\"\n",
    "    data = pd.read_csv(filename, \n",
    "                       sep = '\\t', \n",
    "                       header = None, \n",
    "                       names = [\"word\",\"year\",\"total\",\"pages\",\"books\"],\n",
    "                       quotechar=None, \n",
    "                       quoting=3,\n",
    "                       encoding = \"ISO-8859-1\")\n",
    "    print(data.head())\n",
    "    get_word_counts(data, all_words)"
   ]
  },
  {
   "cell_type": "code",
   "execution_count": 4,
   "metadata": {},
   "outputs": [
    {
     "name": "stdout",
     "output_type": "stream",
     "text": [
      "['ponsan', 'swedenborgianism', 'creagan', 'rsvps', 'kubo', 'triaminic', 'azuru', 'marcomannic', 'macmillaris', 'atioc']\n"
     ]
    }
   ],
   "source": [
    "keys = random.sample(list(all_words), 1000)\n",
    "print(keys[:10])"
   ]
  },
  {
   "cell_type": "code",
   "execution_count": 5,
   "metadata": {},
   "outputs": [
    {
     "data": {
      "text/plain": [
       "2017739"
      ]
     },
     "execution_count": 5,
     "metadata": {},
     "output_type": "execute_result"
    }
   ],
   "source": [
    "len(all_words)"
   ]
  },
  {
   "cell_type": "code",
   "execution_count": 6,
   "metadata": {},
   "outputs": [
    {
     "name": "stdout",
     "output_type": "stream",
     "text": [
      "gonococci\n",
      "28282\n",
      "nonmaterial\n",
      "13099\n",
      "reiter\n",
      "35558\n",
      "erma\n",
      "10450\n",
      "sapienza\n",
      "10709\n",
      "standley\n",
      "10869\n",
      "hackney\n",
      "153041\n",
      "tanzania\n",
      "142857\n",
      "askari\n",
      "11440\n",
      "decreeing\n",
      "36886\n",
      "sawyers\n",
      "24222\n",
      "somersault\n",
      "26909\n",
      "workers\n",
      "8760559\n",
      "inspirited\n",
      "13606\n",
      "officium\n",
      "30314\n",
      "cem\n",
      "23117\n",
      "tripling\n",
      "11103\n",
      "rawley\n",
      "17715\n",
      "stiffen\n",
      "63565\n",
      "saps\n",
      "33196\n",
      "gratiae\n",
      "11882\n",
      "kk\n",
      "105720\n",
      "mahavira\n",
      "17505\n",
      "talkin\n",
      "51147\n",
      "graveled\n",
      "12301\n",
      "bells\n",
      "1179691\n",
      "seventhly\n",
      "17002\n",
      "vallier\n",
      "11849\n",
      "coffees\n",
      "14376\n",
      "hoffmann\n",
      "164934\n",
      "catalans\n",
      "36061\n",
      "rioters\n",
      "151408\n",
      "goodly\n",
      "394318\n",
      "coleman\n",
      "339544\n",
      "stylized\n",
      "81242\n",
      "halides\n",
      "75936\n",
      "kutch\n",
      "20305\n",
      "cadastre\n",
      "10412\n",
      "kluckhohn\n",
      "25712\n",
      "zip\n",
      "68455\n",
      "irruption\n",
      "90053\n",
      "tellier\n",
      "19509\n",
      "lier\n",
      "41194\n",
      "lupine\n",
      "17923\n",
      "antipyretics\n",
      "13431\n",
      "rescripts\n",
      "17870\n",
      "jordanes\n",
      "11390\n",
      "pallbearers\n",
      "11472\n",
      "dundalk\n",
      "27854\n",
      "incipit\n",
      "23860\n",
      "flamingo\n",
      "31120\n",
      "alginate\n",
      "18758\n"
     ]
    },
    {
     "data": {
      "text/plain": [
       "(array([998.,   1.,   0.,   0.,   0.,   0.,   0.,   0.,   0.,   1.]),\n",
       " array([4.0000000e+01, 8.7609190e+05, 1.7521438e+06, 2.6281957e+06,\n",
       "        3.5042476e+06, 4.3802995e+06, 5.2563514e+06, 6.1324033e+06,\n",
       "        7.0084552e+06, 7.8845071e+06, 8.7605590e+06]),\n",
       " <a list of 10 Patch objects>)"
      ]
     },
     "execution_count": 6,
     "metadata": {},
     "output_type": "execute_result"
    },
    {
     "data": {
      "image/png": "[encoded data removed]",
      "text/plain": [
       "<Figure size 432x288 with 1 Axes>"
      ]
     },
     "metadata": {
      "needs_background": "light"
     },
     "output_type": "display_data"
    }
   ],
   "source": [
    "counts = []\n",
    "for word in keys:\n",
    "    count = all_words[word]\n",
    "    counts.append(count)\n",
    "    if(count>1e4):\n",
    "        print(word)\n",
    "        print(count)\n",
    "plt.hist(counts)"
   ]
  },
  {
   "cell_type": "code",
   "execution_count": 7,
   "metadata": {},
   "outputs": [
    {
     "name": "stdout",
     "output_type": "stream",
     "text": [
      "44054 words\n",
      "appearing 108532409422 times\n",
      "others appear 2464883135 times\n"
     ]
    }
   ],
   "source": [
    "top_words = {}\n",
    "word_to_index = {}\n",
    "index_to_word = {}\n",
    "cutoff = 5e4\n",
    "top_word_count = 0\n",
    "extra_word_count = 0\n",
    "i = 0\n",
    "words = []\n",
    "counts = []\n",
    "for word, count in all_words.items():\n",
    "    if(count>cutoff):\n",
    "        top_words[word] = count\n",
    "        top_word_count += count\n",
    "        words.append(word)\n",
    "        counts.append(count)\n",
    "        #word_to_index[word] = i\n",
    "        #index_to_word[i] = word\n",
    "        i += 1\n",
    "    else:\n",
    "        extra_word_count += count\n",
    "\n",
    "indices = np.argsort(-1*np.array(counts))\n",
    "for order, index in enumerate(indices):\n",
    "    word_to_index[words[index]] = order\n",
    "    index_to_word[order] = words[index]\n",
    "        \n",
    "print(str(len(top_words)) + \" words\")\n",
    "print(\"appearing \" + str(top_word_count) + \" times\")\n",
    "print(\"others appear \" + str(extra_word_count) + \" times\")"
   ]
  },
  {
   "cell_type": "code",
   "execution_count": 8,
   "metadata": {},
   "outputs": [
    {
     "name": "stdout",
     "output_type": "stream",
     "text": [
      "1\n",
      "88\n",
      "6597\n"
     ]
    }
   ],
   "source": [
    "print(word_to_index[\"the\"])\n",
    "print(word_to_index[\"man\"])\n",
    "print(word_to_index[\"calculate\"])"
   ]
  },
  {
   "cell_type": "code",
   "execution_count": 9,
   "metadata": {},
   "outputs": [
    {
     "name": "stdout",
     "output_type": "stream",
     "text": [
      "0.9777933039787055\n"
     ]
    }
   ],
   "source": [
    "print(top_word_count/(extra_word_count + top_word_count))"
   ]
  },
  {
   "cell_type": "code",
   "execution_count": 10,
   "metadata": {},
   "outputs": [],
   "source": [
    "pd.DataFrame.from_dict(top_words, orient='index').to_csv(\"vocabCountsLarge.csv\")\n",
    "pd.DataFrame.from_dict(index_to_word, orient='index').to_csv(\"vocabIndexedLarge.csv\")"
   ]
  },
  {
   "cell_type": "code",
   "execution_count": 11,
   "metadata": {},
   "outputs": [],
   "source": [
    "# if re-running: \n",
    "def load_vocab(top_word_dict, word_to_index_dict, index_to_word_dict):\n",
    "    top_word_df = pd.read_csv(\"vocabCounts.csv\", names=[\"word\",\"count\"], header=0)\n",
    "    total_count = 0\n",
    "    for index, row in top_word_df.iterrows():\n",
    "        top_word_dict[row[\"word\"]] = row[\"count\"]\n",
    "        total_count += row[\"count\"]\n",
    "        word_to_index_dict[row[\"word\"]] = index\n",
    "        index_to_word_dict[index]=row[\"word\"]\n",
    "    return total_count\n",
    "    \n",
    "#top_words = {}\n",
    "#word_to_index = {}\n",
    "#index_to_word = {}\n",
    "\n",
    "#total_count = load_vocab(top_words, word_to_index, index_to_word)\n",
    "#print(total_count)\n",
    "    "
   ]
  },
  {
   "cell_type": "code",
   "execution_count": 12,
   "metadata": {},
   "outputs": [
    {
     "data": {
      "text/plain": [
       "[1900, 1910, 1920, 1930, 1940, 1950, 1960, 1970, 1980, 1990, 2000]"
      ]
     },
     "execution_count": 12,
     "metadata": {},
     "output_type": "execute_result"
    }
   ],
   "source": [
    "maxyear = 2008\n",
    "minyear = 1900\n",
    "\n",
    "decades = list(range(minyear - minyear%10, maxyear, 10))\n",
    "decades"
   ]
  },
  {
   "cell_type": "markdown",
   "metadata": {},
   "source": [
    "According to Mikolov, the best results from skipgram came from training with a loss function of negative sampling with k=15. This means using \"tf.nn.sampled_softmax_loss\" with num_sampled = 15, num_classes = vocab size, and num_true=1.\n",
    "source: https://www.tensorflow.org/api_docs/python/tf/nn/sampled_softmax_loss"
   ]
  },
  {
   "cell_type": "markdown",
   "metadata": {},
   "source": [
    "From hw4:\n",
    "\n",
    "embed_shape = [self.V, self.H]\n",
    "\n",
    "self.W_in_ = tf.get_variable(\"W_in\", embed_shape, initializer=tf.initializers.random_uniform(minval=-1.0,maxval=1.0))\n",
    "\n",
    "x_in_ = tf.nn.embedding_lookup(self.W_in_, self.input_w_)"
   ]
  },
  {
   "cell_type": "code",
   "execution_count": 13,
   "metadata": {},
   "outputs": [],
   "source": [
    "vocab_size = len(top_words) + 1\n",
    "embed_dim = 300\n",
    "neg_samples = 15\n",
    "learning_rate_ = .001"
   ]
  },
  {
   "cell_type": "code",
   "execution_count": 36,
   "metadata": {},
   "outputs": [
    {
     "name": "stdout",
     "output_type": "stream",
     "text": [
      "Data from 1900 to 2008\n"
     ]
    }
   ],
   "source": [
    "W_e_ = {}\n",
    "W_nce_ = {}\n",
    "b_nce_ = {}\n",
    "\n",
    "print(\"Data from \" + str(minyear) + \" to \" + str(maxyear))\n",
    "for decade in decades:\n",
    "    # initialize embeddings\n",
    "    with tf.variable_scope(tf.get_variable_scope(), reuse=tf.AUTO_REUSE): \n",
    "        W_e_[decade] = tf.get_variable(\"W_e_\" + str(decade), \n",
    "                       [vocab_size, embed_dim], \n",
    "                       initializer = tf.initializers.random_uniform(minval=-1.0,\n",
    "                                                                    maxval=1.0, \n",
    "                                                                    seed = 47))\n",
    "        W_nce_[decade] = tf.get_variable(\"W_nce_\" + str(decade), \n",
    "                      [vocab_size, embed_dim], \n",
    "                      initializer = tf.initializers.random_uniform(minval=-1.0,\n",
    "                                                                   maxval=1.0, \n",
    "                                                                   seed = 47))\n",
    "        b_nce_[decade] = tf.get_variable(\"b_nce_\" + str(decade), \n",
    "                       [vocab_size])"
   ]
  },
  {
   "cell_type": "markdown",
   "metadata": {},
   "source": [
    "follow the directions in https://www.tensorflow.org/tutorials/representation/word2vec to get skipgram model running"
   ]
  },
  {
   "cell_type": "code",
   "execution_count": 37,
   "metadata": {},
   "outputs": [],
   "source": [
    "v_center_ = {}\n",
    "train_loss_ = {}\n",
    "train_step_ = {}\n",
    "\n",
    "batch_size = 8\n",
    "\n",
    "center_word_ids_ = tf.placeholder(tf.int32, [batch_size])\n",
    "context_word_ids_ = tf.placeholder(tf.int32, [batch_size,1])\n",
    "\n",
    "for decade in decades:\n",
    "\n",
    "    v_center_[decade] = tf.nn.embedding_lookup(W_e_[decade], center_word_ids_)\n",
    "    \n",
    "    \n",
    "    train_loss_[decade] = tf.reduce_mean(\n",
    "        tf.nn.sampled_softmax_loss(weights=W_nce_[decade],\n",
    "                 biases=tf.zeros([vocab_size]),\n",
    "                 labels=context_word_ids_,\n",
    "                 inputs=v_center_[decade],\n",
    "                 num_sampled=neg_samples,\n",
    "                 num_classes=vocab_size))\n",
    "    \n",
    "    train_step_[decade] = tf.train.AdamOptimizer(learning_rate=learning_rate_).minimize(train_loss_[decade])\n",
    "    \n",
    "init=tf.global_variables_initializer()"
   ]
  },
  {
   "cell_type": "code",
   "execution_count": 38,
   "metadata": {},
   "outputs": [],
   "source": [
    "def words_to_indices(wordlist, wordindices):\n",
    "    indexlist = [vocab_size - 1,vocab_size -1,vocab_size -1,vocab_size -1,vocab_size -1]\n",
    "    for i in range(len(wordlist)):\n",
    "        currentword = wordlist[i]\n",
    "        cleanword = clean_word(currentword)\n",
    "        if(cleanword in wordindices):\n",
    "            indexlist[i] = wordindices[cleanword]\n",
    "    #indextuple = tuple(indexlist)\n",
    "    return indexlist\n",
    "\n",
    "def ngram_to_df(fileurl):\n",
    "    #response = requests.get(fileurl)\n",
    "    #zip_file = zipfile.ZipFile(io.BytesIO(response.content))\n",
    "    #zip_file.extractall(\"temp\")\n",
    "    \n",
    "    decade_data = {}\n",
    "    for decade in decades:\n",
    "        # initialize dictionary\n",
    "        decade_data[decade] = {}\n",
    "        \n",
    "    data = 0\n",
    "    start = time.time()\n",
    "    while True:\n",
    "        try:\n",
    "            data = pd.read_csv(fileurl, \n",
    "                       sep = '\\t', \n",
    "                       header = None, \n",
    "                       names = [\"words\",\"year\",\"total\",\"pages\",\"books\"],\n",
    "                       quotechar=None, \n",
    "                       quoting=3,\n",
    "                       encoding = \"ISO-8859-1\")\n",
    "        except:\n",
    "            print(\"trying downloading \"+ fileurl + \" again... \")\n",
    "        else:\n",
    "            break\n",
    "    end = time.time()\n",
    "    print(str(end-start) + \" elapsed while downloading and reading\")\n",
    "    for decade in decades:\n",
    "        decade_data[decade] = data.loc[(data['year'] >= decade) & (data['year'] < decade+10)]\n",
    "    \n",
    "    return decade_data"
   ]
  },
  {
   "cell_type": "code",
   "execution_count": 39,
   "metadata": {},
   "outputs": [],
   "source": [
    "sess.run(init)"
   ]
  },
  {
   "cell_type": "markdown",
   "metadata": {},
   "source": [
    "run skipgram for each decade"
   ]
  },
  {
   "cell_type": "code",
   "execution_count": 41,
   "metadata": {},
   "outputs": [
    {
     "name": "stdout",
     "output_type": "stream",
     "text": [
      "downloaded http://storage.googleapis.com/books/ngrams/books/googlebooks-eng-1M-5gram-20090715-23.csv.zip\n",
      "trying downloading http://storage.googleapis.com/books/ngrams/books/googlebooks-eng-1M-5gram-20090715-23.csv.zip again... \n",
      "22.271231651306152 elapsed while downloading and reading\n",
      "Training decade 1900\n",
      "4.091782438755035\n",
      "2.9632691305279732\n",
      "3.0513360950946806\n"
     ]
    },
    {
     "ename": "KeyboardInterrupt",
     "evalue": "",
     "output_type": "error",
     "traceback": [
      "\u001b[1;31m---------------------------------------------------------------------------\u001b[0m",
      "\u001b[1;31mKeyboardInterrupt\u001b[0m                         Traceback (most recent call last)",
      "\u001b[1;32m<ipython-input-41-a1ea7b4e96a3>\u001b[0m in \u001b[0;36m<module>\u001b[1;34m\u001b[0m\n\u001b[0;32m     31\u001b[0m                             \u001b[0mops\u001b[0m \u001b[1;33m=\u001b[0m \u001b[1;33m[\u001b[0m\u001b[0mtrain_loss_\u001b[0m\u001b[1;33m[\u001b[0m\u001b[0mdecade\u001b[0m\u001b[1;33m]\u001b[0m\u001b[1;33m,\u001b[0m \u001b[0mtrain_step_\u001b[0m\u001b[1;33m[\u001b[0m\u001b[0mdecade\u001b[0m\u001b[1;33m]\u001b[0m\u001b[1;33m]\u001b[0m\u001b[1;33m\u001b[0m\u001b[1;33m\u001b[0m\u001b[0m\n\u001b[0;32m     32\u001b[0m \u001b[1;33m\u001b[0m\u001b[0m\n\u001b[1;32m---> 33\u001b[1;33m                             \u001b[0mcost\u001b[0m\u001b[1;33m,\u001b[0m \u001b[0m_\u001b[0m \u001b[1;33m=\u001b[0m \u001b[0msess\u001b[0m\u001b[1;33m.\u001b[0m\u001b[0mrun\u001b[0m\u001b[1;33m(\u001b[0m\u001b[0mops\u001b[0m\u001b[1;33m,\u001b[0m \u001b[0mfeed_dict\u001b[0m\u001b[1;33m)\u001b[0m\u001b[1;33m\u001b[0m\u001b[1;33m\u001b[0m\u001b[0m\n\u001b[0m\u001b[0;32m     34\u001b[0m                             \u001b[0mtotalcost\u001b[0m\u001b[1;33m+=\u001b[0m \u001b[0mcost\u001b[0m\u001b[1;33m\u001b[0m\u001b[1;33m\u001b[0m\u001b[0m\n\u001b[0;32m     35\u001b[0m                             \u001b[0mitercount\u001b[0m \u001b[1;33m+=\u001b[0m\u001b[1;36m1\u001b[0m\u001b[1;33m\u001b[0m\u001b[1;33m\u001b[0m\u001b[0m\n",
      "\u001b[1;32mc:\\users\\madge\\anaconda3\\envs\\tensorflow_gpuenv\\lib\\site-packages\\tensorflow\\python\\client\\session.py\u001b[0m in \u001b[0;36mrun\u001b[1;34m(self, fetches, feed_dict, options, run_metadata)\u001b[0m\n\u001b[0;32m    927\u001b[0m     \u001b[1;32mtry\u001b[0m\u001b[1;33m:\u001b[0m\u001b[1;33m\u001b[0m\u001b[1;33m\u001b[0m\u001b[0m\n\u001b[0;32m    928\u001b[0m       result = self._run(None, fetches, feed_dict, options_ptr,\n\u001b[1;32m--> 929\u001b[1;33m                          run_metadata_ptr)\n\u001b[0m\u001b[0;32m    930\u001b[0m       \u001b[1;32mif\u001b[0m \u001b[0mrun_metadata\u001b[0m\u001b[1;33m:\u001b[0m\u001b[1;33m\u001b[0m\u001b[1;33m\u001b[0m\u001b[0m\n\u001b[0;32m    931\u001b[0m         \u001b[0mproto_data\u001b[0m \u001b[1;33m=\u001b[0m \u001b[0mtf_session\u001b[0m\u001b[1;33m.\u001b[0m\u001b[0mTF_GetBuffer\u001b[0m\u001b[1;33m(\u001b[0m\u001b[0mrun_metadata_ptr\u001b[0m\u001b[1;33m)\u001b[0m\u001b[1;33m\u001b[0m\u001b[1;33m\u001b[0m\u001b[0m\n",
      "\u001b[1;32mc:\\users\\madge\\anaconda3\\envs\\tensorflow_gpuenv\\lib\\site-packages\\tensorflow\\python\\client\\session.py\u001b[0m in \u001b[0;36m_run\u001b[1;34m(self, handle, fetches, feed_dict, options, run_metadata)\u001b[0m\n\u001b[0;32m   1150\u001b[0m     \u001b[1;32mif\u001b[0m \u001b[0mfinal_fetches\u001b[0m \u001b[1;32mor\u001b[0m \u001b[0mfinal_targets\u001b[0m \u001b[1;32mor\u001b[0m \u001b[1;33m(\u001b[0m\u001b[0mhandle\u001b[0m \u001b[1;32mand\u001b[0m \u001b[0mfeed_dict_tensor\u001b[0m\u001b[1;33m)\u001b[0m\u001b[1;33m:\u001b[0m\u001b[1;33m\u001b[0m\u001b[1;33m\u001b[0m\u001b[0m\n\u001b[0;32m   1151\u001b[0m       results = self._do_run(handle, final_targets, final_fetches,\n\u001b[1;32m-> 1152\u001b[1;33m                              feed_dict_tensor, options, run_metadata)\n\u001b[0m\u001b[0;32m   1153\u001b[0m     \u001b[1;32melse\u001b[0m\u001b[1;33m:\u001b[0m\u001b[1;33m\u001b[0m\u001b[1;33m\u001b[0m\u001b[0m\n\u001b[0;32m   1154\u001b[0m       \u001b[0mresults\u001b[0m \u001b[1;33m=\u001b[0m \u001b[1;33m[\u001b[0m\u001b[1;33m]\u001b[0m\u001b[1;33m\u001b[0m\u001b[1;33m\u001b[0m\u001b[0m\n",
      "\u001b[1;32mc:\\users\\madge\\anaconda3\\envs\\tensorflow_gpuenv\\lib\\site-packages\\tensorflow\\python\\client\\session.py\u001b[0m in \u001b[0;36m_do_run\u001b[1;34m(self, handle, target_list, fetch_list, feed_dict, options, run_metadata)\u001b[0m\n\u001b[0;32m   1326\u001b[0m     \u001b[1;32mif\u001b[0m \u001b[0mhandle\u001b[0m \u001b[1;32mis\u001b[0m \u001b[1;32mNone\u001b[0m\u001b[1;33m:\u001b[0m\u001b[1;33m\u001b[0m\u001b[1;33m\u001b[0m\u001b[0m\n\u001b[0;32m   1327\u001b[0m       return self._do_call(_run_fn, feeds, fetches, targets, options,\n\u001b[1;32m-> 1328\u001b[1;33m                            run_metadata)\n\u001b[0m\u001b[0;32m   1329\u001b[0m     \u001b[1;32melse\u001b[0m\u001b[1;33m:\u001b[0m\u001b[1;33m\u001b[0m\u001b[1;33m\u001b[0m\u001b[0m\n\u001b[0;32m   1330\u001b[0m       \u001b[1;32mreturn\u001b[0m \u001b[0mself\u001b[0m\u001b[1;33m.\u001b[0m\u001b[0m_do_call\u001b[0m\u001b[1;33m(\u001b[0m\u001b[0m_prun_fn\u001b[0m\u001b[1;33m,\u001b[0m \u001b[0mhandle\u001b[0m\u001b[1;33m,\u001b[0m \u001b[0mfeeds\u001b[0m\u001b[1;33m,\u001b[0m \u001b[0mfetches\u001b[0m\u001b[1;33m)\u001b[0m\u001b[1;33m\u001b[0m\u001b[1;33m\u001b[0m\u001b[0m\n",
      "\u001b[1;32mc:\\users\\madge\\anaconda3\\envs\\tensorflow_gpuenv\\lib\\site-packages\\tensorflow\\python\\client\\session.py\u001b[0m in \u001b[0;36m_do_call\u001b[1;34m(self, fn, *args)\u001b[0m\n\u001b[0;32m   1332\u001b[0m   \u001b[1;32mdef\u001b[0m \u001b[0m_do_call\u001b[0m\u001b[1;33m(\u001b[0m\u001b[0mself\u001b[0m\u001b[1;33m,\u001b[0m \u001b[0mfn\u001b[0m\u001b[1;33m,\u001b[0m \u001b[1;33m*\u001b[0m\u001b[0margs\u001b[0m\u001b[1;33m)\u001b[0m\u001b[1;33m:\u001b[0m\u001b[1;33m\u001b[0m\u001b[1;33m\u001b[0m\u001b[0m\n\u001b[0;32m   1333\u001b[0m     \u001b[1;32mtry\u001b[0m\u001b[1;33m:\u001b[0m\u001b[1;33m\u001b[0m\u001b[1;33m\u001b[0m\u001b[0m\n\u001b[1;32m-> 1334\u001b[1;33m       \u001b[1;32mreturn\u001b[0m \u001b[0mfn\u001b[0m\u001b[1;33m(\u001b[0m\u001b[1;33m*\u001b[0m\u001b[0margs\u001b[0m\u001b[1;33m)\u001b[0m\u001b[1;33m\u001b[0m\u001b[1;33m\u001b[0m\u001b[0m\n\u001b[0m\u001b[0;32m   1335\u001b[0m     \u001b[1;32mexcept\u001b[0m \u001b[0merrors\u001b[0m\u001b[1;33m.\u001b[0m\u001b[0mOpError\u001b[0m \u001b[1;32mas\u001b[0m \u001b[0me\u001b[0m\u001b[1;33m:\u001b[0m\u001b[1;33m\u001b[0m\u001b[1;33m\u001b[0m\u001b[0m\n\u001b[0;32m   1336\u001b[0m       \u001b[0mmessage\u001b[0m \u001b[1;33m=\u001b[0m \u001b[0mcompat\u001b[0m\u001b[1;33m.\u001b[0m\u001b[0mas_text\u001b[0m\u001b[1;33m(\u001b[0m\u001b[0me\u001b[0m\u001b[1;33m.\u001b[0m\u001b[0mmessage\u001b[0m\u001b[1;33m)\u001b[0m\u001b[1;33m\u001b[0m\u001b[1;33m\u001b[0m\u001b[0m\n",
      "\u001b[1;32mc:\\users\\madge\\anaconda3\\envs\\tensorflow_gpuenv\\lib\\site-packages\\tensorflow\\python\\client\\session.py\u001b[0m in \u001b[0;36m_run_fn\u001b[1;34m(feed_dict, fetch_list, target_list, options, run_metadata)\u001b[0m\n\u001b[0;32m   1317\u001b[0m       \u001b[0mself\u001b[0m\u001b[1;33m.\u001b[0m\u001b[0m_extend_graph\u001b[0m\u001b[1;33m(\u001b[0m\u001b[1;33m)\u001b[0m\u001b[1;33m\u001b[0m\u001b[1;33m\u001b[0m\u001b[0m\n\u001b[0;32m   1318\u001b[0m       return self._call_tf_sessionrun(\n\u001b[1;32m-> 1319\u001b[1;33m           options, feed_dict, fetch_list, target_list, run_metadata)\n\u001b[0m\u001b[0;32m   1320\u001b[0m \u001b[1;33m\u001b[0m\u001b[0m\n\u001b[0;32m   1321\u001b[0m     \u001b[1;32mdef\u001b[0m \u001b[0m_prun_fn\u001b[0m\u001b[1;33m(\u001b[0m\u001b[0mhandle\u001b[0m\u001b[1;33m,\u001b[0m \u001b[0mfeed_dict\u001b[0m\u001b[1;33m,\u001b[0m \u001b[0mfetch_list\u001b[0m\u001b[1;33m)\u001b[0m\u001b[1;33m:\u001b[0m\u001b[1;33m\u001b[0m\u001b[1;33m\u001b[0m\u001b[0m\n",
      "\u001b[1;32mc:\\users\\madge\\anaconda3\\envs\\tensorflow_gpuenv\\lib\\site-packages\\tensorflow\\python\\client\\session.py\u001b[0m in \u001b[0;36m_call_tf_sessionrun\u001b[1;34m(self, options, feed_dict, fetch_list, target_list, run_metadata)\u001b[0m\n\u001b[0;32m   1405\u001b[0m     return tf_session.TF_SessionRun_wrapper(\n\u001b[0;32m   1406\u001b[0m         \u001b[0mself\u001b[0m\u001b[1;33m.\u001b[0m\u001b[0m_session\u001b[0m\u001b[1;33m,\u001b[0m \u001b[0moptions\u001b[0m\u001b[1;33m,\u001b[0m \u001b[0mfeed_dict\u001b[0m\u001b[1;33m,\u001b[0m \u001b[0mfetch_list\u001b[0m\u001b[1;33m,\u001b[0m \u001b[0mtarget_list\u001b[0m\u001b[1;33m,\u001b[0m\u001b[1;33m\u001b[0m\u001b[1;33m\u001b[0m\u001b[0m\n\u001b[1;32m-> 1407\u001b[1;33m         run_metadata)\n\u001b[0m\u001b[0;32m   1408\u001b[0m \u001b[1;33m\u001b[0m\u001b[0m\n\u001b[0;32m   1409\u001b[0m   \u001b[1;32mdef\u001b[0m \u001b[0m_call_tf_sessionprun\u001b[0m\u001b[1;33m(\u001b[0m\u001b[0mself\u001b[0m\u001b[1;33m,\u001b[0m \u001b[0mhandle\u001b[0m\u001b[1;33m,\u001b[0m \u001b[0mfeed_dict\u001b[0m\u001b[1;33m,\u001b[0m \u001b[0mfetch_list\u001b[0m\u001b[1;33m)\u001b[0m\u001b[1;33m:\u001b[0m\u001b[1;33m\u001b[0m\u001b[1;33m\u001b[0m\u001b[0m\n",
      "\u001b[1;31mKeyboardInterrupt\u001b[0m: "
     ]
    }
   ],
   "source": [
    "max_iter = 501\n",
    "\n",
    "for filenum in range(23,800):\n",
    "    url = \"http://storage.googleapis.com/books/ngrams/books/googlebooks-eng-1M-5gram-20090715-\" + str(filenum) +\".csv.zip\"\n",
    "    print(\"downloaded \" + url)\n",
    "    #decade_dicts = ngram_to_decade_dict(url, word_to_index, decades)\n",
    "    decade_data =  ngram_to_df(url)\n",
    "    for decade in decades:\n",
    "        num_ngrams = len(decade_data[decade])\n",
    "        totalcost = 0\n",
    "        itercount = 0\n",
    "        if(num_ngrams >= batch_size):\n",
    "            print(\"Training decade \" + str(decade))\n",
    "            max_decade_iter = min(max_iter, int(num_ngrams/(batch_size)))\n",
    "            for iteration in range(max_decade_iter):\n",
    "                traindf = decade_data[decade].sample(n=batch_size, weights='total')\n",
    "                trainarray = np.zeros([batch_size,5])\n",
    "                i=0\n",
    "                for index, row in traindf.iterrows():\n",
    "                    trainarray[i] = words_to_indices(str(row[\"words\"]).lower().split(\" \"), word_to_index)\n",
    "                    i+=1\n",
    "                    \n",
    "                for i in range(5):\n",
    "                    for j in range(5):\n",
    "                        if(i != j):\n",
    "                            feed_dict = {\n",
    "                                context_word_ids_ : np.array([x[i] for x in trainarray]).reshape((batch_size,1)),\n",
    "                                center_word_ids_ : [x[j] for x in trainarray],\n",
    "                            }\n",
    "\n",
    "                            ops = [train_loss_[decade], train_step_[decade]]        \n",
    "\n",
    "                            cost, _ = sess.run(ops, feed_dict)\n",
    "                            totalcost+= cost\n",
    "                            itercount +=1\n",
    "                \n",
    "                if(iteration % 100 == 0):\n",
    "                    print(str(totalcost*1.0/itercount))     \n",
    "                    totalcost = 0\n",
    "                    itercount = 0"
   ]
  },
  {
   "cell_type": "code",
   "execution_count": 42,
   "metadata": {},
   "outputs": [
    {
     "name": "stdout",
     "output_type": "stream",
     "text": [
      "1900 aligns with svd sum 4316302.0\n",
      "1910 aligns with svd sum 4318010.5\n",
      "1920 aligns with svd sum 4319151.0\n",
      "1930 aligns with svd sum 4319660.0\n",
      "1940 aligns with svd sum 4320381.5\n",
      "1950 aligns with svd sum 4320167.5\n",
      "1960 aligns with svd sum 4321094.5\n",
      "1970 aligns with svd sum 4322289.5\n",
      "1980 aligns with svd sum 4323611.0\n",
      "1990 aligns with svd sum 4325492.0\n",
      "2000 aligns with svd sum 4349451.0\n"
     ]
    }
   ],
   "source": [
    "last_decade = decades[-1]\n",
    "most_recent_embed = sess.run(W_e_[last_decade])\n",
    "aligned_embeddings = {}\n",
    "embeddings = {}\n",
    "\n",
    "\n",
    "# align past decades to current english using orthogonal procrustes\n",
    "for i, decade in enumerate(decades):\n",
    "    decade_embed =  sess.run(W_e_[decade])\n",
    "    embeddings[decade] = decade_embed\n",
    "    conversion = scipy.linalg.orthogonal_procrustes(decade_embed, most_recent_embed)\n",
    "    print(str(decade) + \" aligns with svd sum \"+str(conversion[1]))\n",
    "    aligned = np.dot(decade_embed, conversion[0])\n",
    "    aligned_embeddings[decade] = aligned\n",
    "    np.savetxt(\"embeddings_\" + str(decade) + \".csv\", aligned)"
   ]
  },
  {
   "cell_type": "code",
   "execution_count": 43,
   "metadata": {},
   "outputs": [],
   "source": [
    "def embedding_lookup(word,embeddingmx):\n",
    "    wordindex = len(word_to_index)\n",
    "    if(word in word_to_index):\n",
    "        wordindex = word_to_index[word]\n",
    "    embedding = embeddingmx[wordindex]\n",
    "    return embedding\n",
    "    \n",
    "def cos_sim(x,y):\n",
    "    return np.dot(x,y)/np.sqrt(np.dot(x,x)*np.dot(y,y))\n",
    "\n",
    "def cos_sim_words(x, y, embeddingmx):\n",
    "    x_embed = embedding_lookup(x,embeddingmx)\n",
    "    y_embed = embedding_lookup(y,embeddingmx)\n",
    "    return cos_sim(x_embed, y_embed)\n",
    "\n",
    "def cos_sim_time(word1, word2, decades, embedding_dict):\n",
    "    sims = np.zeros(len(decades))\n",
    "    for i, decade in enumerate(decades):\n",
    "        word1embed = embedding_lookup(word1, embedding_dict[decade])\n",
    "        word2embed = embedding_lookup(word2, embedding_dict[decade])\n",
    "        cos = cos_sim(word1embed, word2embed)\n",
    "        sims[i] = cos\n",
    "    return sims\n",
    "\n",
    "def normalize(x):\n",
    "    xnorm = np.sqrt(np.dot(x,x))\n",
    "    if(xnorm == 0):\n",
    "        return x\n",
    "    else:\n",
    "        return x/xnorm"
   ]
  },
  {
   "cell_type": "code",
   "execution_count": 44,
   "metadata": {},
   "outputs": [
    {
     "data": {
      "text/plain": [
       "<matplotlib.legend.Legend at 0x180bfdd34e0>"
      ]
     },
     "execution_count": 44,
     "metadata": {},
     "output_type": "execute_result"
    },
    {
     "data": {
      "image/png": "[encoded data removed]",
      "text/plain": [
       "<Figure size 864x576 with 1 Axes>"
      ]
     },
     "metadata": {
      "needs_background": "light"
     },
     "output_type": "display_data"
    }
   ],
   "source": [
    "plt.figure(figsize=(12,8))\n",
    "plt.title(\"Cosine similarity of pronouns over time\")\n",
    "plt.plot(decades, cos_sim_time(\"she\",\"he\",decades,embeddings), label='she vs. he')\n",
    "plt.plot(decades, cos_sim_time(\"he\",\"they\",decades,embeddings), label='he vs. they')\n",
    "plt.plot(decades, cos_sim_time(\"she\",\"they\",decades,embeddings), label='she vs. they')\n",
    "plt.legend()"
   ]
  },
  {
   "cell_type": "code",
   "execution_count": 45,
   "metadata": {},
   "outputs": [],
   "source": [
    "# visualize on \"he-she\" projection vs time   \n",
    "\n",
    "    \n",
    "\n",
    "def eval_analogy(a, b, c, d, embedding):\n",
    "    embeda = normalize(embedding_lookup(a, embedding))\n",
    "    embedb = normalize(embedding_lookup(b, embedding))\n",
    "    embedc = normalize(embedding_lookup(c, embedding))\n",
    "    embedd = normalize(embedding_lookup(d, embedding))\n",
    "    target = embedc-embeda+embedb\n",
    "    return cos_sim(target, embedd)\n",
    "        \n",
    "def eval_analogy_time(a, b, c, d, decades, embedding_dict):\n",
    "    cos_sim = np.zeros(len(decades))\n",
    "    for i, decade in enumerate(decades):\n",
    "        cos = eval_analogy(a,b,c,d, embedding_dict[decade])\n",
    "        cos_sim[i] = cos\n",
    "    return cos_sim\n"
   ]
  },
  {
   "cell_type": "markdown",
   "metadata": {},
   "source": [
    "graph results"
   ]
  },
  {
   "cell_type": "code",
   "execution_count": 46,
   "metadata": {},
   "outputs": [
    {
     "ename": "IndexError",
     "evalue": "list index out of range",
     "output_type": "error",
     "traceback": [
      "\u001b[1;31m---------------------------------------------------------------------------\u001b[0m",
      "\u001b[1;31mIndexError\u001b[0m                                Traceback (most recent call last)",
      "\u001b[1;32m<ipython-input-46-4f73d6b0f8e0>\u001b[0m in \u001b[0;36m<module>\u001b[1;34m\u001b[0m\n\u001b[0;32m     13\u001b[0m \u001b[0mfig\u001b[0m\u001b[1;33m,\u001b[0m \u001b[0maxes\u001b[0m \u001b[1;33m=\u001b[0m \u001b[0mplt\u001b[0m\u001b[1;33m.\u001b[0m\u001b[0msubplots\u001b[0m\u001b[1;33m(\u001b[0m\u001b[1;36m1\u001b[0m\u001b[1;33m,\u001b[0m \u001b[1;36m2\u001b[0m\u001b[1;33m,\u001b[0m \u001b[0msharex\u001b[0m\u001b[1;33m=\u001b[0m\u001b[1;34m'col'\u001b[0m\u001b[1;33m,\u001b[0m \u001b[0msharey\u001b[0m\u001b[1;33m=\u001b[0m\u001b[1;34m'col'\u001b[0m\u001b[1;33m)\u001b[0m\u001b[1;33m\u001b[0m\u001b[1;33m\u001b[0m\u001b[0m\n\u001b[0;32m     14\u001b[0m \u001b[1;32mfor\u001b[0m \u001b[0mi\u001b[0m \u001b[1;32min\u001b[0m \u001b[0mrange\u001b[0m\u001b[1;33m(\u001b[0m\u001b[1;36m5\u001b[0m\u001b[1;33m)\u001b[0m\u001b[1;33m:\u001b[0m\u001b[1;33m\u001b[0m\u001b[1;33m\u001b[0m\u001b[0m\n\u001b[1;32m---> 15\u001b[1;33m     \u001b[0mpair\u001b[0m \u001b[1;33m=\u001b[0m \u001b[0mbolubasi_biased\u001b[0m\u001b[1;33m[\u001b[0m\u001b[0mi\u001b[0m\u001b[1;33m]\u001b[0m\u001b[1;33m\u001b[0m\u001b[1;33m\u001b[0m\u001b[0m\n\u001b[0m\u001b[0;32m     16\u001b[0m     \u001b[0maxes\u001b[0m\u001b[1;33m[\u001b[0m\u001b[1;36m0\u001b[0m\u001b[1;33m]\u001b[0m\u001b[1;33m.\u001b[0m\u001b[0mplot\u001b[0m\u001b[1;33m(\u001b[0m\u001b[0mdecades\u001b[0m\u001b[1;33m,\u001b[0m\u001b[0meval_analogy_time\u001b[0m\u001b[1;33m(\u001b[0m\u001b[0ma\u001b[0m\u001b[1;33m,\u001b[0m\u001b[0mb\u001b[0m\u001b[1;33m,\u001b[0m\u001b[0mpair\u001b[0m\u001b[1;33m[\u001b[0m\u001b[1;36m0\u001b[0m\u001b[1;33m]\u001b[0m\u001b[1;33m,\u001b[0m\u001b[0mpair\u001b[0m\u001b[1;33m[\u001b[0m\u001b[1;36m1\u001b[0m\u001b[1;33m]\u001b[0m\u001b[1;33m,\u001b[0m \u001b[0mdecades\u001b[0m\u001b[1;33m,\u001b[0m \u001b[0membeddings\u001b[0m\u001b[1;33m)\u001b[0m\u001b[1;33m)\u001b[0m\u001b[1;33m\u001b[0m\u001b[1;33m\u001b[0m\u001b[0m\n\u001b[0;32m     17\u001b[0m     \u001b[0mpair\u001b[0m \u001b[1;33m=\u001b[0m \u001b[0mbolubasi_appropriate\u001b[0m\u001b[1;33m[\u001b[0m\u001b[0mi\u001b[0m\u001b[1;33m]\u001b[0m\u001b[1;33m\u001b[0m\u001b[1;33m\u001b[0m\u001b[0m\n",
      "\u001b[1;31mIndexError\u001b[0m: list index out of range"
     ]
    },
    {
     "data": {
      "image/png": "[encoded data removed]",
      "text/plain": [
       "<Figure size 432x288 with 2 Axes>"
      ]
     },
     "metadata": {
      "needs_background": "light"
     },
     "output_type": "display_data"
    }
   ],
   "source": [
    "a = \"she\"\n",
    "b = \"he\"\n",
    "\n",
    "bolubasi_biased = [(\"nurse\", \"surgeon\"),\n",
    "                   (\"blonde\", \"burly\"),\n",
    "                   (\"feminism\",\"conservatism\")]\n",
    "\n",
    "bolubasi_appropriate = [(\"girls\",\"boys\"),\n",
    "                        (\"sister\",\"brother\"),\n",
    "                        (\"heroine\",\"hero\"),\n",
    "                        (\"queen\",\"king\")]\n",
    "\n",
    "fig, axes = plt.subplots(1, 2, sharex='col', sharey='col')\n",
    "for i in range(5):\n",
    "    pair = bolubasi_biased[i]\n",
    "    axes[0].plot(decades,eval_analogy_time(a,b,pair[0],pair[1], decades, embeddings))\n",
    "    pair = bolubasi_appropriate[i]\n",
    "    axes[1].plot(decades,eval_analogy_time(a,b,pair[0],pair[1], decades, embeddings), label =str(pair))\n",
    "    axes[1].legend()\n"
   ]
  },
  {
   "cell_type": "code",
   "execution_count": 47,
   "metadata": {},
   "outputs": [
    {
     "name": "stdout",
     "output_type": "stream",
     "text": [
      "klein\n",
      "beneficence\n",
      "liar\n",
      "crosby\n",
      "see\n"
     ]
    }
   ],
   "source": [
    "def complete_analogy(a,b,c, embeddings):\n",
    "    embeda = embedding_lookup(a, embeddings)\n",
    "    embedb = embedding_lookup(b, embeddings)\n",
    "    embedc = embedding_lookup(c, embeddings)\n",
    "    target = embedc - embeda + embedb\n",
    "    maxsim = 0\n",
    "    maxword = \"\"\n",
    "    for word, index in word_to_index.items():\n",
    "        if(word != c and word != b):\n",
    "            wordembed = normalize(embedding_lookup(word, embeddings))\n",
    "            cos = cos_sim(target, wordembed)\n",
    "            if(cos > maxsim):\n",
    "                maxword = word\n",
    "                maxsim = cos\n",
    "    return maxword\n",
    "        \n",
    "decade = 1950\n",
    "print(complete_analogy(\"queen\",\"woman\",\"king\", embeddings[decade]))\n",
    "print(complete_analogy(\"man\",\"woman\",\"uncle\", embeddings[decade]))\n",
    "print(complete_analogy(\"man\",\"woman\",\"brother\", embeddings[decade]))\n",
    "print(complete_analogy(\"man\",\"woman\",\"boy\", embeddings[decade]))\n",
    "print(complete_analogy(\"he\",\"she\",\"man\", embeddings[decade]))       "
   ]
  },
  {
   "cell_type": "code",
   "execution_count": null,
   "metadata": {},
   "outputs": [],
   "source": [
    "def check_analogy(a,b,c,d,embeddings):\n",
    "    answer = complete_analogy(a,b,c,embeddings)\n",
    "    # print(a + ' ' + b + ' ' + c  + ' ...' + answer + \" (correct : \" + d +\")\")\n",
    "    if(answer == d):\n",
    "        return 1\n",
    "    else:\n",
    "        return 0\n",
    "\n",
    "\n",
    "with open('analogy-checks-from-tf.txt') as f:\n",
    "    lines = f.readlines()\n",
    "    \n",
    "lines = [x.strip().split(\" \") for x in lines] \n",
    "lines_filtered = list(filter(lambda x: len(x) == 4, lines[-100:]))\n",
    "total_analogies = len(lines_filtered)\n",
    "accuracies = np.zeros(len(decades))\n",
    "for i, decade in enumerate(decades):\n",
    "    correct = [check_analogy(x[0],x[1],x[2],x[3],embeddings[decade]) for x in lines_filtered]\n",
    "    accuracy = sum(correct) * 1.0 / total_analogies\n",
    "    accuracies[i] = accuracy\n",
    "    print(str(decade) + \" with accuracy: \" + str(accuracy))\n",
    "    \n",
    "plt.plot(decades, accuracies)\n",
    "plt.show()"
   ]
  },
  {
   "cell_type": "code",
   "execution_count": 34,
   "metadata": {},
   "outputs": [],
   "source": [
    "def weat(targetX, targetY, attrA, attrB, embeddings):\n",
    "    x_sum = 0\n",
    "    y_sum = 0\n",
    "    a_total = len(attrA)\n",
    "    b_total = len(attrB)\n",
    "    for x in targetX:\n",
    "        a_x_total = 0\n",
    "        for a in attrA:\n",
    "            a_x_total += cos_sim_words(x, a, embeddings)\n",
    "        b_x_total = 0\n",
    "        for b in attrB:\n",
    "            b_x_total += cos_sim_words(x, b, embeddings)\n",
    "        x_sum += a_x_total*1.0/a_total - b_x_total*1.0/b_total\n",
    "    for y in targetY:\n",
    "        a_y_total = 0\n",
    "        for a in attrA:\n",
    "            a_y_total += cos_sim_words(y, a, embeddings)\n",
    "        b_y_total = 0\n",
    "        for b in attrB:\n",
    "            b_y_total += cos_sim_words(y, b, embeddings)\n",
    "        y_sum += a_y_total*1.0/a_total - b_y_total*1.0/b_total\n",
    "    return x_sum - y_sum"
   ]
  },
  {
   "cell_type": "code",
   "execution_count": 35,
   "metadata": {},
   "outputs": [
    {
     "data": {
      "image/png": "[encoded data removed]",
      "text/plain": [
       "<Figure size 864x576 with 1 Axes>"
      ]
     },
     "metadata": {
      "needs_background": "light"
     },
     "output_type": "display_data"
    }
   ],
   "source": [
    "target_art = [\"poetry\", \"art\", \"Shakespeare\", \"dance\", \"literature\", \"novel\", \"symphony\", \"drama\"]\n",
    "target_math = [\"math\", \"algebra\", \"geometry\", \"calculus\", \"equations\", \"computation\", \"numbers\", \"Newton\"]\n",
    "target_science = [\"science\", \"technology\", \"physics\", \"chemistry\", \"Einstein\", \"NASA\", \"experiment\", \"astronomy\"]\n",
    "\n",
    "target_domestic = [\"house\", \"home\", \"clean\", \"sew\", \"children\", \"cook\", \"garden\", \"laundry\"]\n",
    "target_intellectual = [\"college\", \"learn\", \"book\", \"write\", \"study\", \"art\", \"science\", \"math\"]\n",
    "\n",
    "attr_fem = [\"sister\", \"mother\", \"aunt\", \"grandmother\", \"daughter\", \"she\", \"hers\", \"her\"]\n",
    "attr_masc = [\"brother\", \"father\", \"uncle\", \"grandfather\", \"son\", \"he\", \"his\", \"him\"]\n",
    "\n",
    "weat_art_math = np.zeros(len(decades))\n",
    "weat_art_science = np.zeros(len(decades))\n",
    "weat_dom_math =  np.zeros(len(decades))\n",
    "weat_dom_science =  np.zeros(len(decades))\n",
    "weat_dom_art =  np.zeros(len(decades))\n",
    "\n",
    "for i, decade in enumerate(decades):\n",
    "    weat_art_math[i] = weat(target_art, target_math, attr_fem, attr_masc, embeddings[decade])\n",
    "    weat_art_science[i] = weat(target_art, target_science, attr_fem, attr_masc, embeddings[decade])\n",
    "    weat_dom_math[i] = weat(target_domestic, target_math, attr_fem, attr_masc, embeddings[decade])\n",
    "    weat_dom_science[i] = weat(target_domestic, target_science, attr_fem, attr_masc, embeddings[decade])\n",
    "    weat_dom_art[i] = weat(target_domestic, target_art, attr_fem, attr_masc, embeddings[decade])\n",
    "    \n",
    "    \n",
    "plt.figure(figsize=(12,8))\n",
    "plt.title(\"WEAT statistic for Feminine vs. Masculine Attributes\")\n",
    "plt.plot(decades,weat_art_math, label = \"Art vs. Math\")\n",
    "#plt.plot(decades,weat_art_science)\n",
    "#plt.show()\n",
    "plt.plot(decades,weat_dom_math, label = \"Domestic vs. Math\")\n",
    "#plt.plot(decades,weat_dom_science)\n",
    "plt.plot(decades,weat_dom_art, label = \"Domestic vs. Art\")\n",
    "plt.legend()\n",
    "plt.show()"
   ]
  },
  {
   "cell_type": "code",
   "execution_count": null,
   "metadata": {},
   "outputs": [],
   "source": []
  }
 ],
 "metadata": {
  "kernelspec": {
   "display_name": "Python 3",
   "language": "python",
   "name": "python3"
  },
  "language_info": {
   "codemirror_mode": {
    "name": "ipython",
    "version": 3
   },
   "file_extension": ".py",
   "mimetype": "text/x-python",
   "name": "python",
   "nbconvert_exporter": "python",
   "pygments_lexer": "ipython3",
   "version": "3.6.8"
  }
 },
 "nbformat": 4,
 "nbformat_minor": 2
}
